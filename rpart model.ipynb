{
 "cells": [
  {
   "cell_type": "code",
   "execution_count": 2,
   "metadata": {
    "collapsed": false
   },
   "outputs": [
    {
     "name": "stdout",
     "output_type": "stream",
     "text": [
      "Read 532428 rows and 45 (of 45) columns from 0.134 GB file in 00:00:06\n",
      "Read 354951 rows and 44 (of 44) columns from 0.089 GB file in 00:00:04\n"
     ]
    }
   ],
   "source": [
    "train = fread(\"train.csv\", na.strings = c(\"\",\" \", NA), stringsAsFactors = T)\n",
    "test = fread(\"test.csv\", na.strings = c(\"\",\" \" ,NA), stringsAsFactors = T)"
   ]
  },
  {
   "cell_type": "code",
   "execution_count": 3,
   "metadata": {
    "collapsed": false,
    "scrolled": true
   },
   "outputs": [
    {
     "data": {
      "text/plain": [
       "   member_id          loan_amnt      funded_amnt    funded_amnt_inv\n",
       " Min.   :   70473   Min.   :  500   Min.   :  500   Min.   :    0  \n",
       " 1st Qu.:10866882   1st Qu.: 8000   1st Qu.: 8000   1st Qu.: 8000  \n",
       " Median :37095895   Median :13000   Median :13000   Median :13000  \n",
       " Mean   :35005472   Mean   :14758   Mean   :14744   Mean   :14705  \n",
       " 3rd Qu.:58489201   3rd Qu.:20000   3rd Qu.:20000   3rd Qu.:20000  \n",
       " Max.   :73544841   Max.   :35000   Max.   :35000   Max.   :35000  \n",
       "                                                                   \n",
       "        term           batch_enrolled      int_rate     grade     \n",
       " 36 months:372793   BAT2252229: 18791   Min.   : 5.32   A: 89107  \n",
       " 60 months:159635   BAT3873588: 17839   1st Qu.: 9.99   B:152713  \n",
       "                    BAT2803411: 17111   Median :12.99   C:147499  \n",
       "                    BAT2078974: 14859   Mean   :13.24   D: 83567  \n",
       "                    BAT1586599: 14463   3rd Qu.:16.20   E: 42495  \n",
       "                    (Other)   :258137   Max.   :28.99   F: 13826  \n",
       "                    NA's      :191228                   G:  3221  \n",
       "   sub_grade                 emp_title          emp_length    \n",
       " B3     : 33844   Teacher         :  8280   10+ years:175105  \n",
       " B4     : 33198   Manager         :  6922   2 years  : 47276  \n",
       " C1     : 31975   Registered Nurse:  3387   < 1 year : 42253  \n",
       " C2     : 31356   Owner           :  3305   3 years  : 42175  \n",
       " C3     : 30080   RN              :  3255   1 year   : 34202  \n",
       " B2     : 29390   (Other)         :476449   5 years  : 33393  \n",
       " (Other):342585   NA's            : 30830   (Other)  :158024  \n",
       "  home_ownership     annual_inc           verification_status pymnt_plan\n",
       " ANY     :     3   Min.   :   1200   Not Verified   :159976   n:532420  \n",
       " MORTGAGE:265940   1st Qu.:  45000   Source Verified:197750   y:     8  \n",
       " NONE    :    36   Median :  65000   Verified       :174702             \n",
       " OTHER   :   117   Mean   :  75030                                      \n",
       " OWN     : 52664   3rd Qu.:  90000                                      \n",
       " RENT    :213668   Max.   :9500000                                      \n",
       "                   NA's   :3                                            \n",
       "                         desc                      purpose      \n",
       " > Debt consolidation<br>  :   576   debt_consolidation:314989  \n",
       " > Debt Consolidation<br>  :   372   credit_card       :123670  \n",
       " > debt consolidation<br>  :   347   home_improvement  : 31087  \n",
       " > Debt consolidation.<br> :   131   other             : 25652  \n",
       " > Pay off credit cards<br>:   122   major_purchase    : 10284  \n",
       " (Other)                   : 74051   small_business    :  6146  \n",
       " NA's                      :456829   (Other)           : 20600  \n",
       "                     title           zip_code        addr_state    \n",
       " Debt consolidation     :248967   945xx  :  5845   CA     : 77911  \n",
       " Credit card refinancing: 98582   750xx  :  5680   NY     : 44406  \n",
       " Home improvement       : 24057   112xx  :  5632   TX     : 42527  \n",
       " Other                  : 19053   606xx  :  5176   FL     : 36575  \n",
       " Debt Consolidation     :  9932   300xx  :  4757   IL     : 21205  \n",
       " (Other)                :131747   100xx  :  4563   NJ     : 20103  \n",
       " NA's                   :    90   (Other):500775   (Other):289701  \n",
       "      dti          delinq_2yrs      inq_last_6mths    mths_since_last_delinq\n",
       " Min.   :  0.00   Min.   : 0.0000   Min.   : 0.0000   Min.   :  0.00        \n",
       " 1st Qu.: 11.93   1st Qu.: 0.0000   1st Qu.: 0.0000   1st Qu.: 15.00        \n",
       " Median : 17.65   Median : 0.0000   Median : 0.0000   Median : 31.00        \n",
       " Mean   : 18.14   Mean   : 0.3144   Mean   : 0.6946   Mean   : 34.06        \n",
       " 3rd Qu.: 23.95   3rd Qu.: 0.0000   3rd Qu.: 1.0000   3rd Qu.: 50.00        \n",
       " Max.   :672.52   Max.   :30.0000   Max.   :31.0000   Max.   :180.00        \n",
       "                  NA's   :16        NA's   :16        NA's   :272554        \n",
       " mths_since_last_record    open_acc        pub_rec          revol_bal      \n",
       " Min.   :  0.0          Min.   : 0.00   Min.   : 0.0000   Min.   :      0  \n",
       " 1st Qu.: 51.0          1st Qu.: 8.00   1st Qu.: 0.0000   1st Qu.:   6444  \n",
       " Median : 70.0          Median :11.00   Median : 0.0000   Median :  11876  \n",
       " Mean   : 70.1          Mean   :11.55   Mean   : 0.1949   Mean   :  16921  \n",
       " 3rd Qu.: 92.0          3rd Qu.:14.00   3rd Qu.: 0.0000   3rd Qu.:  20843  \n",
       " Max.   :121.0          Max.   :90.00   Max.   :86.0000   Max.   :2568995  \n",
       " NA's   :450305         NA's   :16      NA's   :16                         \n",
       "   revol_util       total_acc      initial_list_status total_rec_int    \n",
       " Min.   :  0.00   Min.   :  1.00   f:274018            Min.   :    0.0  \n",
       " 1st Qu.: 37.70   1st Qu.: 17.00   w:258410            1st Qu.:  441.6  \n",
       " Median : 56.00   Median : 24.00                       Median : 1072.7  \n",
       " Mean   : 55.06   Mean   : 25.27                       Mean   : 1753.4  \n",
       " 3rd Qu.: 73.60   3rd Qu.: 32.00                       3rd Qu.: 2234.7  \n",
       " Max.   :892.30   Max.   :162.00                       Max.   :24205.6  \n",
       " NA's   :287      NA's   :16                                            \n",
       " total_rec_late_fee   recoveries       collection_recovery_fee\n",
       " Min.   :  0.000    Min.   :    0.00   Min.   :   0.000       \n",
       " 1st Qu.:  0.000    1st Qu.:    0.00   1st Qu.:   0.000       \n",
       " Median :  0.000    Median :    0.00   Median :   0.000       \n",
       " Mean   :  0.395    Mean   :   45.72   Mean   :   4.859       \n",
       " 3rd Qu.:  0.000    3rd Qu.:    0.00   3rd Qu.:   0.000       \n",
       " Max.   :358.680    Max.   :33520.27   Max.   :7002.190       \n",
       "                                                              \n",
       " collections_12_mths_ex_med mths_since_last_major_derog   application_type \n",
       " Min.   : 0.0000            Min.   :  0.0               INDIVIDUAL:532123  \n",
       " 1st Qu.: 0.0000            1st Qu.: 27.0               JOINT     :   305  \n",
       " Median : 0.0000            Median : 44.0                                  \n",
       " Mean   : 0.0143            Mean   : 44.1                                  \n",
       " 3rd Qu.: 0.0000            3rd Qu.: 61.0                                  \n",
       " Max.   :16.0000            Max.   :180.0                                  \n",
       " NA's   :95                 NA's   :399448                                 \n",
       "   verification_status_joint   last_week_pay    acc_now_delinq     \n",
       " Not Verified   :   170      13th week: 30333   Min.   : 0.000000  \n",
       " Source Verified:    33      9th week : 28626   1st Qu.: 0.000000  \n",
       " Verified       :   102      26th week: 27475   Median : 0.000000  \n",
       " NA's           :532123      22th week: 26000   Mean   : 0.005015  \n",
       "                             4th week : 25704   3rd Qu.: 0.000000  \n",
       "                             35th week: 24037   Max.   :14.000000  \n",
       "                             (Other)  :370253   NA's   :16         \n",
       "  tot_coll_amt       tot_cur_bal      total_rev_hi_lim   loan_status    \n",
       " Min.   :     0.0   Min.   :      0   Min.   :      0   Min.   :0.0000  \n",
       " 1st Qu.:     0.0   1st Qu.:  29840   1st Qu.:  14000   1st Qu.:0.0000  \n",
       " Median :     0.0   Median :  80670   Median :  23700   Median :0.0000  \n",
       " Mean   :   213.6   Mean   : 139554   Mean   :  32081   Mean   :0.2363  \n",
       " 3rd Qu.:     0.0   3rd Qu.: 208479   3rd Qu.:  39800   3rd Qu.:0.0000  \n",
       " Max.   :496651.0   Max.   :8000078   Max.   :9999999   Max.   :1.0000  \n",
       " NA's   :42004      NA's   :42004     NA's   :42004                     "
      ]
     },
     "metadata": {},
     "output_type": "display_data"
    }
   ],
   "source": [
    "summary(train)"
   ]
  },
  {
   "cell_type": "code",
   "execution_count": 4,
   "metadata": {
    "collapsed": false,
    "scrolled": true
   },
   "outputs": [
    {
     "data": {
      "text/plain": [
       "   member_id          loan_amnt      funded_amnt    funded_amnt_inv\n",
       " Min.   :   70626   Min.   :  500   Min.   :  500   Min.   :    0  \n",
       " 1st Qu.:10889411   1st Qu.: 8000   1st Qu.: 8000   1st Qu.: 8000  \n",
       " Median :37086503   Median :13000   Median :13000   Median :13000  \n",
       " Mean   :34996354   Mean   :14752   Mean   :14738   Mean   :14699  \n",
       " 3rd Qu.:58448923   3rd Qu.:20000   3rd Qu.:20000   3rd Qu.:20000  \n",
       " Max.   :73544827   Max.   :35000   Max.   :35000   Max.   :35000  \n",
       "                                                                   \n",
       "        term           batch_enrolled      int_rate     grade     \n",
       " 36 months:248332   BAT5260863:  9972   Min.   : 5.32   A: 59095  \n",
       " 60 months:106619   BAT5662637:  9379   1st Qu.: 9.99   B:101822  \n",
       "                    BAT6004464:  9000   Median :12.99   C: 98361  \n",
       "                    BAT6248271:  7957   Mean   :13.25   D: 55975  \n",
       "                    BAT4106493:  7694   3rd Qu.:16.20   E: 28210  \n",
       "                    (Other)   :137342   Max.   :28.99   F:  9220  \n",
       "                    NA's      :173607                   G:  2268  \n",
       "   sub_grade                 emp_title          emp_length    \n",
       " B3     : 22479   Teacher         :  5527   10+ years:116464  \n",
       " B4     : 22428   Manager         :  4716   2 years  : 31594  \n",
       " C1     : 21412   Registered Nurse:  2304   < 1 year : 28352  \n",
       " C2     : 20880   RN              :  2236   3 years  : 27851  \n",
       " C3     : 20081   Owner           :  2207   1 year   : 22893  \n",
       " C4     : 19754   (Other)         :317334   5 years  : 22311  \n",
       " (Other):227917   NA's            : 20627   (Other)  :105486  \n",
       "  home_ownership     annual_inc           verification_status pymnt_plan\n",
       " MORTGAGE:177617   Min.   :      0   Not Verified   :106774   n:354949  \n",
       " NONE    :    14   1st Qu.:  45000   Source Verified:131808   y:     2  \n",
       " OTHER   :    65   Median :  65000   Verified       :116369             \n",
       " OWN     : 34806   Mean   :  75024                                      \n",
       " RENT    :142449   3rd Qu.:  90000                                      \n",
       "                   Max.   :9000000                                      \n",
       "                   NA's   :1                                            \n",
       "                         desc                      purpose      \n",
       " > Debt consolidation<br>  :   382   debt_consolidation:209226  \n",
       " > Debt Consolidation<br>  :   252   credit_card       : 82512  \n",
       " > debt consolidation<br>  :   223   home_improvement  : 20742  \n",
       " > Pay off credit cards<br>:    83   other             : 17242  \n",
       " > Debt consolidation.<br> :    79   major_purchase    :  6993  \n",
       " (Other)                   : 49164   small_business    :  4231  \n",
       " NA's                      :304768   (Other)           : 14005  \n",
       "                     title           zip_code        addr_state    \n",
       " Debt consolidation     :165385   945xx  :  3925   CA     : 51606  \n",
       " Credit card refinancing: 65759   750xx  :  3737   NY     : 29680  \n",
       " Home improvement       : 16113   112xx  :  3640   TX     : 28611  \n",
       " Other                  : 12839   606xx  :  3465   FL     : 24360  \n",
       " Debt Consolidation     :  6482   300xx  :  3369   IL     : 14271  \n",
       " (Other)                : 88312   100xx  :  3046   NJ     : 13153  \n",
       " NA's                   :    61   (Other):333769   (Other):193270  \n",
       "      dti           delinq_2yrs      inq_last_6mths    mths_since_last_delinq\n",
       " Min.   :   0.00   Min.   : 0.0000   Min.   : 0.0000   Min.   :  0.00        \n",
       " 1st Qu.:  11.89   1st Qu.: 0.0000   1st Qu.: 0.0000   1st Qu.: 15.00        \n",
       " Median :  17.65   Median : 0.0000   Median : 0.0000   Median : 31.00        \n",
       " Mean   :  18.18   Mean   : 0.3144   Mean   : 0.6946   Mean   : 34.08        \n",
       " 3rd Qu.:  23.94   3rd Qu.: 0.0000   3rd Qu.: 1.0000   3rd Qu.: 50.00        \n",
       " Max.   :9999.00   Max.   :39.0000   Max.   :33.0000   Max.   :188.00        \n",
       "                   NA's   :13        NA's   :13        NA's   :181758        \n",
       " mths_since_last_record    open_acc        pub_rec         revol_bal      \n",
       " Min.   :  0.00         Min.   : 0.00   Min.   : 0.000   Min.   :      0  \n",
       " 1st Qu.: 51.00         1st Qu.: 8.00   1st Qu.: 0.000   1st Qu.:   6441  \n",
       " Median : 70.00         Median :11.00   Median : 0.000   Median :  11873  \n",
       " Mean   : 70.16         Mean   :11.55   Mean   : 0.196   Mean   :  16920  \n",
       " 3rd Qu.: 92.00         3rd Qu.:14.00   3rd Qu.: 0.000   3rd Qu.:  20811  \n",
       " Max.   :129.00         Max.   :76.00   Max.   :54.000   Max.   :2904836  \n",
       " NA's   :300021         NA's   :13      NA's   :13                        \n",
       "   revol_util       total_acc      initial_list_status total_rec_int    \n",
       " Min.   :  0.00   Min.   :  1.00   f:182830            Min.   :    0.0  \n",
       " 1st Qu.: 37.70   1st Qu.: 17.00   w:172121            1st Qu.:  441.3  \n",
       " Median : 56.00   Median : 24.00                       Median : 1074.1  \n",
       " Mean   : 55.08   Mean   : 25.27                       Mean   : 1756.9  \n",
       " 3rd Qu.: 73.60   3rd Qu.: 32.00                       3rd Qu.: 2243.1  \n",
       " Max.   :182.80   Max.   :169.00                       Max.   :23062.5  \n",
       " NA's   :215      NA's   :13                                            \n",
       " total_rec_late_fee   recoveries       collection_recovery_fee\n",
       " Min.   :  0.0000   Min.   :    0.00   Min.   :   0.000       \n",
       " 1st Qu.:  0.0000   1st Qu.:    0.00   1st Qu.:   0.000       \n",
       " Median :  0.0000   Median :    0.00   Median :   0.000       \n",
       " Mean   :  0.3993   Mean   :   46.22   Mean   :   4.913       \n",
       " 3rd Qu.:  0.0000   3rd Qu.:    0.00   3rd Qu.:   0.000       \n",
       " Max.   :286.7476   Max.   :29282.07   Max.   :5569.920       \n",
       "                                                              \n",
       " collections_12_mths_ex_med mths_since_last_major_derog   application_type \n",
       " Min.   : 0.0000            Min.   :  0.00              INDIVIDUAL:354745  \n",
       " 1st Qu.: 0.0000            1st Qu.: 27.00              JOINT     :   206  \n",
       " Median : 0.0000            Median : 44.00                                 \n",
       " Mean   : 0.0145            Mean   : 44.08                                 \n",
       " 3rd Qu.: 0.0000            3rd Qu.: 61.00                                 \n",
       " Max.   :20.0000            Max.   :188.00                                 \n",
       " NA's   :50                 NA's   :266228                                 \n",
       "   verification_status_joint   last_week_pay    acc_now_delinq    \n",
       " Not Verified   :   113      13th week: 19988   Min.   :0.000000  \n",
       " Source Verified:    28      9th week : 19054   1st Qu.:0.000000  \n",
       " Verified       :    65      26th week: 18514   Median :0.000000  \n",
       " NA's           :354745      4th week : 17401   Mean   :0.004956  \n",
       "                             22th week: 17342   3rd Qu.:0.000000  \n",
       "                             35th week: 16125   Max.   :5.000000  \n",
       "                             (Other)  :246527   NA's   :13        \n",
       "  tot_coll_amt      tot_cur_bal      total_rev_hi_lim \n",
       " Min.   :      0   Min.   :      0   Min.   :      0  \n",
       " 1st Qu.:      0   1st Qu.:  29874   1st Qu.:  13900  \n",
       " Median :      0   Median :  80369   Median :  23700  \n",
       " Mean   :    244   Mean   : 139314   Mean   :  32051  \n",
       " 3rd Qu.:      0   3rd Qu.: 207800   3rd Qu.:  39700  \n",
       " Max.   :9152545   Max.   :4447397   Max.   :9999999  \n",
       " NA's   :28272     NA's   :28272     NA's   :28272    "
      ]
     },
     "metadata": {},
     "output_type": "display_data"
    }
   ],
   "source": [
    "summary(test)"
   ]
  },
  {
   "cell_type": "code",
   "execution_count": 5,
   "metadata": {
    "collapsed": false
   },
   "outputs": [
    {
     "data": {
      "text/plain": [
       "\n",
       "     0      1 \n",
       "406601 125827 "
      ]
     },
     "metadata": {},
     "output_type": "display_data"
    }
   ],
   "source": [
    "table(train$loan_status)"
   ]
  },
  {
   "cell_type": "code",
   "execution_count": 6,
   "metadata": {
    "collapsed": true
   },
   "outputs": [],
   "source": [
    "test$loan_status = NA\n",
    "total = rbindlist(list(train, test), fill = T)"
   ]
  },
  {
   "cell_type": "code",
   "execution_count": 7,
   "metadata": {
    "collapsed": false,
    "scrolled": true
   },
   "outputs": [
    {
     "data": {
      "text/plain": [
       "   member_id          loan_amnt      funded_amnt    funded_amnt_inv\n",
       " Min.   :   70473   Min.   :  500   Min.   :  500   Min.   :    0  \n",
       " 1st Qu.:10877134   1st Qu.: 8000   1st Qu.: 8000   1st Qu.: 8000  \n",
       " Median :37095283   Median :13000   Median :13000   Median :13000  \n",
       " Mean   :35001825   Mean   :14755   Mean   :14742   Mean   :14702  \n",
       " 3rd Qu.:58471347   3rd Qu.:20000   3rd Qu.:20000   3rd Qu.:20000  \n",
       " Max.   :73544841   Max.   :35000   Max.   :35000   Max.   :35000  \n",
       "                                                                   \n",
       "        term           batch_enrolled      int_rate     grade     \n",
       " 36 months:621125   BAT2252229: 18791   Min.   : 5.32   A:148202  \n",
       " 60 months:266254   BAT3873588: 17839   1st Qu.: 9.99   B:254535  \n",
       "                    BAT2803411: 17111   Median :12.99   C:245860  \n",
       "                    BAT2078974: 14859   Mean   :13.25   D:139542  \n",
       "                    BAT1586599: 14463   3rd Qu.:16.20   E: 70705  \n",
       "                    (Other)   :439481   Max.   :28.99   F: 23046  \n",
       "                    NA's      :364835                   G:  5489  \n",
       "   sub_grade                 emp_title          emp_length    \n",
       " B3     : 56323   Teacher         : 13807   10+ years:291569  \n",
       " B4     : 55626   Manager         : 11638   2 years  : 78870  \n",
       " C1     : 53387   Registered Nurse:  5691   < 1 year : 70605  \n",
       " C2     : 52236   Owner           :  5512   3 years  : 70026  \n",
       " C3     : 50161   RN              :  5491   1 year   : 57095  \n",
       " C4     : 48857   (Other)         :793783   5 years  : 55704  \n",
       " (Other):570789   NA's            : 51457   (Other)  :263510  \n",
       "  home_ownership     annual_inc           verification_status pymnt_plan\n",
       " ANY     :     3   Min.   :      0   Not Verified   :266750   n:887369  \n",
       " MORTGAGE:443557   1st Qu.:  45000   Source Verified:329558   y:    10  \n",
       " NONE    :    50   Median :  65000   Verified       :291071             \n",
       " OTHER   :   182   Mean   :  75028                                      \n",
       " OWN     : 87470   3rd Qu.:  90000                                      \n",
       " RENT    :356117   Max.   :9500000                                      \n",
       "                   NA's   :4                                            \n",
       "                         desc                      purpose      \n",
       " > Debt consolidation<br>  :   958   debt_consolidation:524215  \n",
       " > Debt Consolidation<br>  :   624   credit_card       :206182  \n",
       " > debt consolidation<br>  :   570   home_improvement  : 51829  \n",
       " > Debt consolidation.<br> :   210   other             : 42894  \n",
       " > Pay off credit cards<br>:   205   major_purchase    : 17277  \n",
       " (Other)                   :123215   small_business    : 10377  \n",
       " NA's                      :761597   (Other)           : 34605  \n",
       "                     title           zip_code        addr_state    \n",
       " Debt consolidation     :414352   945xx  :  9770   CA     :129517  \n",
       " Credit card refinancing:164341   750xx  :  9417   NY     : 74086  \n",
       " Home improvement       : 40170   112xx  :  9272   TX     : 71138  \n",
       " Other                  : 31892   606xx  :  8641   FL     : 60935  \n",
       " Debt Consolidation     : 16414   300xx  :  8126   IL     : 35476  \n",
       " (Other)                :220059   100xx  :  7609   NJ     : 33256  \n",
       " NA's                   :   151   (Other):834544   (Other):482971  \n",
       "      dti           delinq_2yrs      inq_last_6mths    mths_since_last_delinq\n",
       " Min.   :   0.00   Min.   : 0.0000   Min.   : 0.0000   Min.   :  0.0         \n",
       " 1st Qu.:  11.91   1st Qu.: 0.0000   1st Qu.: 0.0000   1st Qu.: 15.0         \n",
       " Median :  17.65   Median : 0.0000   Median : 0.0000   Median : 31.0         \n",
       " Mean   :  18.16   Mean   : 0.3144   Mean   : 0.6946   Mean   : 34.1         \n",
       " 3rd Qu.:  23.95   3rd Qu.: 0.0000   3rd Qu.: 1.0000   3rd Qu.: 50.0         \n",
       " Max.   :9999.00   Max.   :39.0000   Max.   :33.0000   Max.   :188.0         \n",
       "                   NA's   :29        NA's   :29        NA's   :454312        \n",
       " mths_since_last_record    open_acc        pub_rec          revol_bal      \n",
       " Min.   :  0.0          Min.   : 0.00   Min.   : 0.0000   Min.   :      0  \n",
       " 1st Qu.: 51.0          1st Qu.: 8.00   1st Qu.: 0.0000   1st Qu.:   6443  \n",
       " Median : 70.0          Median :11.00   Median : 0.0000   Median :  11875  \n",
       " Mean   : 70.1          Mean   :11.55   Mean   : 0.1953   Mean   :  16921  \n",
       " 3rd Qu.: 92.0          3rd Qu.:14.00   3rd Qu.: 0.0000   3rd Qu.:  20829  \n",
       " Max.   :129.0          Max.   :90.00   Max.   :86.0000   Max.   :2904836  \n",
       " NA's   :750326         NA's   :29      NA's   :29                         \n",
       "   revol_util       total_acc      initial_list_status total_rec_int    \n",
       " Min.   :  0.00   Min.   :  1.00   f:456848            Min.   :    0.0  \n",
       " 1st Qu.: 37.70   1st Qu.: 17.00   w:430531            1st Qu.:  441.5  \n",
       " Median : 56.00   Median : 24.00                       Median : 1073.3  \n",
       " Mean   : 55.07   Mean   : 25.27                       Mean   : 1754.8  \n",
       " 3rd Qu.: 73.60   3rd Qu.: 32.00                       3rd Qu.: 2238.3  \n",
       " Max.   :892.30   Max.   :169.00                       Max.   :24205.6  \n",
       " NA's   :502      NA's   :29                                            \n",
       " total_rec_late_fee   recoveries       collection_recovery_fee\n",
       " Min.   :  0.0000   Min.   :    0.00   Min.   :   0.000       \n",
       " 1st Qu.:  0.0000   1st Qu.:    0.00   1st Qu.:   0.000       \n",
       " Median :  0.0000   Median :    0.00   Median :   0.000       \n",
       " Mean   :  0.3967   Mean   :   45.92   Mean   :   4.881       \n",
       " 3rd Qu.:  0.0000   3rd Qu.:    0.00   3rd Qu.:   0.000       \n",
       " Max.   :358.6800   Max.   :33520.27   Max.   :7002.190       \n",
       "                                                              \n",
       " collections_12_mths_ex_med mths_since_last_major_derog   application_type \n",
       " Min.   : 0.00000           Min.   :  0.0               INDIVIDUAL:886868  \n",
       " 1st Qu.: 0.00000           1st Qu.: 27.0               JOINT     :   511  \n",
       " Median : 0.00000           Median : 44.0                                  \n",
       " Mean   : 0.01438           Mean   : 44.1                                  \n",
       " 3rd Qu.: 0.00000           3rd Qu.: 61.0                                  \n",
       " Max.   :20.00000           Max.   :188.0                                  \n",
       " NA's   :145                NA's   :665676                                 \n",
       "   verification_status_joint   last_week_pay    acc_now_delinq     \n",
       " Not Verified   :   283      13th week: 50321   Min.   : 0.000000  \n",
       " Source Verified:    61      9th week : 47680   1st Qu.: 0.000000  \n",
       " Verified       :   167      26th week: 45989   Median : 0.000000  \n",
       " NA's           :886868      22th week: 43342   Mean   : 0.004991  \n",
       "                             4th week : 43105   3rd Qu.: 0.000000  \n",
       "                             35th week: 40162   Max.   :14.000000  \n",
       "                             (Other)  :616780   NA's   :29         \n",
       "  tot_coll_amt      tot_cur_bal      total_rev_hi_lim   loan_status    \n",
       " Min.   :      0   Min.   :      0   Min.   :      0   Min.   :0.0     \n",
       " 1st Qu.:      0   1st Qu.:  29853   1st Qu.:  13900   1st Qu.:0.0     \n",
       " Median :      0   Median :  80559   Median :  23700   Median :0.0     \n",
       " Mean   :    226   Mean   : 139458   Mean   :  32069   Mean   :0.2     \n",
       " 3rd Qu.:      0   3rd Qu.: 208205   3rd Qu.:  39800   3rd Qu.:0.0     \n",
       " Max.   :9152545   Max.   :8000078   Max.   :9999999   Max.   :1.0     \n",
       " NA's   :70276     NA's   :70276     NA's   :70276     NA's   :354951  "
      ]
     },
     "metadata": {},
     "output_type": "display_data"
    }
   ],
   "source": [
    "summary(total)"
   ]
  },
  {
   "cell_type": "code",
   "execution_count": 8,
   "metadata": {
    "collapsed": true
   },
   "outputs": [],
   "source": [
    "## As a naive model, let's drop some columns first which have high NA's or seems unrelevent\n",
    "total$member_id = NULL\n",
    "total$batch_enrolled = NULL\n",
    "total$desc = NULL\n",
    "total$zip_code = NULL\n",
    "total$mths_since_last_delinq = NULL\n",
    "total$mths_since_last_record = NULL\n",
    "total$mths_since_last_major_derog = NULL"
   ]
  },
  {
   "cell_type": "code",
   "execution_count": 9,
   "metadata": {
    "collapsed": false
   },
   "outputs": [
    {
     "data": {
      "text/plain": [
       "                 \n",
       "                    0   1\n",
       "  Not Verified    170   0\n",
       "  Source Verified  32   1\n",
       "  Verified        102   0"
      ]
     },
     "metadata": {},
     "output_type": "display_data"
    }
   ],
   "source": [
    "table(total$verification_status_joint, total$loan_status)"
   ]
  },
  {
   "cell_type": "code",
   "execution_count": 10,
   "metadata": {
    "collapsed": true
   },
   "outputs": [],
   "source": [
    "## Many values are missing plus all are indicating that loan was approved(0 means that person was not defaulter),\n",
    "## so we might as well remove it\n",
    "total$verification_status_joint = NULL"
   ]
  },
  {
   "cell_type": "code",
   "execution_count": 11,
   "metadata": {
    "collapsed": false
   },
   "outputs": [
    {
     "name": "stdout",
     "output_type": "stream",
     "text": [
      " Factor w/ 35 levels \"A1\",\"A2\",\"A3\",..: 23 9 4 20 7 5 4 6 14 19 ...\n"
     ]
    }
   ],
   "source": [
    "str(total$sub_grade)"
   ]
  },
  {
   "cell_type": "code",
   "execution_count": 12,
   "metadata": {
    "collapsed": false
   },
   "outputs": [
    {
     "name": "stdout",
     "output_type": "stream",
     "text": [
      " Factor w/ 289207 levels \"\\tAdv Mtr Proj Fld Rep\",..: 166903 68596 46756 154078 77456 40887 144323 15022 78093 118027 ...\n"
     ]
    }
   ],
   "source": [
    "str(total$emp_title)"
   ]
  },
  {
   "cell_type": "code",
   "execution_count": 13,
   "metadata": {
    "collapsed": false
   },
   "outputs": [
    {
     "name": "stdout",
     "output_type": "stream",
     "text": [
      " Factor w/ 12 levels \"1 year\",\"10+ years\",..: 10 11 3 2 2 3 6 9 8 3 ...\n"
     ]
    }
   ],
   "source": [
    "str(total$emp_length)"
   ]
  },
  {
   "cell_type": "code",
   "execution_count": 14,
   "metadata": {
    "collapsed": false
   },
   "outputs": [
    {
     "data": {
      "text/plain": [
       "          \n",
       "                0      1\n",
       "  ANY           2      1\n",
       "  MORTGAGE 202344  63596\n",
       "  NONE          8     28\n",
       "  OTHER        27     90\n",
       "  OWN       41737  10927\n",
       "  RENT     162483  51185"
      ]
     },
     "metadata": {},
     "output_type": "display_data"
    }
   ],
   "source": [
    "table(total$home_ownership, total$loan_status)"
   ]
  },
  {
   "cell_type": "code",
   "execution_count": 15,
   "metadata": {
    "collapsed": false
   },
   "outputs": [
    {
     "data": {
      "text/plain": [
       "          \n",
       "                   0         1\n",
       "  ANY      0.6666667 0.3333333\n",
       "  MORTGAGE 0.7608634 0.2391366\n",
       "  NONE     0.2222222 0.7777778\n",
       "  OTHER    0.2307692 0.7692308\n",
       "  OWN      0.7925148 0.2074852\n",
       "  RENT     0.7604461 0.2395539"
      ]
     },
     "metadata": {},
     "output_type": "display_data"
    }
   ],
   "source": [
    "prop.table(table(total$home_ownership, total$loan_status),1)"
   ]
  },
  {
   "cell_type": "code",
   "execution_count": 16,
   "metadata": {
    "collapsed": false
   },
   "outputs": [
    {
     "data": {
      "text/html": [
       "596240"
      ],
      "text/latex": [
       "596240"
      ],
      "text/markdown": [
       "596240"
      ],
      "text/plain": [
       "[1] 596240"
      ]
     },
     "metadata": {},
     "output_type": "display_data"
    }
   ],
   "source": [
    "sum(total$annual_inc>50000, na.rm = T)"
   ]
  },
  {
   "cell_type": "code",
   "execution_count": 17,
   "metadata": {
    "collapsed": false
   },
   "outputs": [
    {
     "data": {
      "text/html": [
       "1032"
      ],
      "text/latex": [
       "1032"
      ],
      "text/markdown": [
       "1032"
      ],
      "text/plain": [
       "[1] 1032"
      ]
     },
     "metadata": {},
     "output_type": "display_data"
    }
   ],
   "source": [
    "sum(total$annual_inc>500000, na.rm = T)"
   ]
  },
  {
   "cell_type": "code",
   "execution_count": 18,
   "metadata": {
    "collapsed": false
   },
   "outputs": [
    {
     "data": {
      "text/plain": [
       "   \n",
       "         0      1\n",
       "  n 406595 125825\n",
       "  y      6      2"
      ]
     },
     "metadata": {},
     "output_type": "display_data"
    }
   ],
   "source": [
    "table(total$pymnt_plan, total$loan_status)"
   ]
  },
  {
   "cell_type": "code",
   "execution_count": 19,
   "metadata": {
    "collapsed": true
   },
   "outputs": [],
   "source": [
    "## almost all values are 'n' so it won't be much helpful in predicting the model\n",
    "total$pymnt_plan = NULL"
   ]
  },
  {
   "cell_type": "code",
   "execution_count": 20,
   "metadata": {
    "collapsed": false
   },
   "outputs": [
    {
     "name": "stdout",
     "output_type": "stream",
     "text": [
      " Factor w/ 14 levels \"car\",\"credit_card\",..: 3 5 3 3 2 3 3 2 5 3 ...\n"
     ]
    }
   ],
   "source": [
    "str(total$purpose)"
   ]
  },
  {
   "cell_type": "code",
   "execution_count": 21,
   "metadata": {
    "collapsed": false
   },
   "outputs": [
    {
     "name": "stdout",
     "output_type": "stream",
     "text": [
      " Factor w/ 51 levels \"AK\",\"AL\",\"AR\",..: 10 21 36 46 5 16 5 2 5 18 ...\n"
     ]
    }
   ],
   "source": [
    "str(total$addr_state)"
   ]
  },
  {
   "cell_type": "code",
   "execution_count": 22,
   "metadata": {
    "collapsed": false
   },
   "outputs": [
    {
     "data": {
      "text/plain": [
       "\n",
       "    AK     AL     AR     AZ     CA     CO     CT     DC     DE     FL     GA \n",
       "  2205  11200   6640  20412 129517  18807  13531   2432   2511  60935  29085 \n",
       "    HI     IA     ID     IL     IN     KS     KY     LA     MA     MD     ME \n",
       "  4570     14     12  35476  13789   7926   8550  10587  20593  21031    525 \n",
       "    MI     MN     MO     MS     MT     NC     ND     NE     NH     NJ     NM \n",
       " 22985  15957  14207   3819   2558  24720    479   1176   4294  33256   4939 \n",
       "    NV     NY     OH     OK     OR     PA     RI     SC     SD     TN     TX \n",
       " 12443  74086  29631   8085  10893  31393   3893  10639   1815  12887  71138 \n",
       "    UT     VA     VT     WA     WI     WV     WY \n",
       "  6264  26255   1797  19434  11574   4386   2028 "
      ]
     },
     "metadata": {},
     "output_type": "display_data"
    }
   ],
   "source": [
    "table(total$addr_state)"
   ]
  },
  {
   "cell_type": "code",
   "execution_count": 23,
   "metadata": {
    "collapsed": false
   },
   "outputs": [
    {
     "data": {
      "text/html": [
       "<ol class=list-inline>\n",
       "\t<li>clerk</li>\n",
       "\t<li>Human Resources Specialist</li>\n",
       "\t<li>Driver</li>\n",
       "\t<li>Us office of Personnel Management</li>\n",
       "\t<li>LAUSD-HOLLYWOOD HIGH SCHOOL</li>\n",
       "\t<li>Design Consultant</li>\n",
       "</ol>\n"
      ],
      "text/latex": [
       "\\begin{enumerate*}\n",
       "\\item clerk\n",
       "\\item Human Resources Specialist\n",
       "\\item Driver\n",
       "\\item Us office of Personnel Management\n",
       "\\item LAUSD-HOLLYWOOD HIGH SCHOOL\n",
       "\\item Design Consultant\n",
       "\\end{enumerate*}\n"
      ],
      "text/markdown": [
       "1. clerk\n",
       "2. Human Resources Specialist\n",
       "3. Driver\n",
       "4. Us office of Personnel Management\n",
       "5. LAUSD-HOLLYWOOD HIGH SCHOOL\n",
       "6. Design Consultant\n",
       "\n",
       "\n"
      ],
      "text/plain": [
       "[1] clerk                             Human Resources Specialist       \n",
       "[3] Driver                            Us office of Personnel Management\n",
       "[5] LAUSD-HOLLYWOOD HIGH SCHOOL       Design Consultant                \n",
       "289207 Levels: \\tAdv Mtr Proj Fld Rep ... zulily"
      ]
     },
     "metadata": {},
     "output_type": "display_data"
    }
   ],
   "source": [
    "head(total$emp_title)"
   ]
  },
  {
   "cell_type": "code",
   "execution_count": 24,
   "metadata": {
    "collapsed": true
   },
   "outputs": [],
   "source": [
    "## replace the missing values with median of the data\n",
    "total$annual_inc[is.na(total$annual_inc)] = 75028\n",
    "total$delinq_2yrs[is.na(total$delinq_2yrs)] = 0\n",
    "total$inq_last_6mths[is.na(total$inq_last_6mths)] = 0\n",
    "total$open_acc[is.na(total$open_acc)] = 11\n",
    "total$pub_rec[is.na(total$pub_rec)] = 0\n",
    "total$revol_util[is.na(total$revol_util)] = 56\n",
    "total$total_acc[is.na(total$total_acc)] = 24\n",
    "total$collections_12_mths_ex_med[is.na(total$collections_12_mths_ex_med)] = 0"
   ]
  },
  {
   "cell_type": "code",
   "execution_count": 25,
   "metadata": {
    "collapsed": true
   },
   "outputs": [],
   "source": [
    "total$acc_now_delinq[is.na(total$acc_now_delinq)] = 0"
   ]
  },
  {
   "cell_type": "code",
   "execution_count": 26,
   "metadata": {
    "collapsed": false
   },
   "outputs": [
    {
     "name": "stdout",
     "output_type": "stream",
     "text": [
      " Factor w/ 289207 levels \"\\tAdv Mtr Proj Fld Rep\",..: 166903 68596 46756 154078 77456 40887 144323 15022 78093 118027 ...\n"
     ]
    }
   ],
   "source": [
    "str(total$emp_title)"
   ]
  },
  {
   "cell_type": "code",
   "execution_count": 27,
   "metadata": {
    "collapsed": true
   },
   "outputs": [],
   "source": [
    "## there are too many levels, we need to reduce them\n",
    "emp_title = data.frame(table(total$emp_title))"
   ]
  },
  {
   "cell_type": "code",
   "execution_count": 28,
   "metadata": {
    "collapsed": false
   },
   "outputs": [
    {
     "data": {
      "text/html": [
       "236538"
      ],
      "text/latex": [
       "236538"
      ],
      "text/markdown": [
       "236538"
      ],
      "text/plain": [
       "[1] 236538"
      ]
     },
     "metadata": {},
     "output_type": "display_data"
    }
   ],
   "source": [
    "sum(emp_title$Freq==1)"
   ]
  },
  {
   "cell_type": "code",
   "execution_count": 29,
   "metadata": {
    "collapsed": false
   },
   "outputs": [
    {
     "data": {
      "text/html": [
       "25238"
      ],
      "text/latex": [
       "25238"
      ],
      "text/markdown": [
       "25238"
      ],
      "text/plain": [
       "[1] 25238"
      ]
     },
     "metadata": {},
     "output_type": "display_data"
    }
   ],
   "source": [
    "sum(emp_title$Freq==2)"
   ]
  },
  {
   "cell_type": "code",
   "execution_count": 30,
   "metadata": {
    "collapsed": true
   },
   "outputs": [],
   "source": [
    "emp_title1 = emp_title[emp_title$Freq==1,]"
   ]
  },
  {
   "cell_type": "code",
   "execution_count": 31,
   "metadata": {
    "collapsed": false
   },
   "outputs": [
    {
     "data": {
      "text/html": [
       "<dl class=dl-horizontal>\n",
       "\t<dt>Teacher</dt>\n",
       "\t\t<dd>13807</dd>\n",
       "\t<dt>Manager</dt>\n",
       "\t\t<dd>11638</dd>\n",
       "\t<dt>Registered Nurse</dt>\n",
       "\t\t<dd>5691</dd>\n",
       "\t<dt>Owner</dt>\n",
       "\t\t<dd>5512</dd>\n",
       "\t<dt>RN</dt>\n",
       "\t\t<dd>5491</dd>\n",
       "\t<dt>Supervisor</dt>\n",
       "\t\t<dd>5414</dd>\n",
       "\t<dt>Sales</dt>\n",
       "\t\t<dd>4457</dd>\n",
       "\t<dt>Project Manager</dt>\n",
       "\t\t<dd>4087</dd>\n",
       "\t<dt>Driver</dt>\n",
       "\t\t<dd>3722</dd>\n",
       "\t<dt>Office Manager</dt>\n",
       "\t\t<dd>3615</dd>\n",
       "\t<dt>Director</dt>\n",
       "\t\t<dd>3328</dd>\n",
       "\t<dt>General Manager</dt>\n",
       "\t\t<dd>3281</dd>\n",
       "\t<dt>manager</dt>\n",
       "\t\t<dd>3247</dd>\n",
       "\t<dt>teacher</dt>\n",
       "\t\t<dd>2979</dd>\n",
       "\t<dt>owner</dt>\n",
       "\t\t<dd>2904</dd>\n",
       "\t<dt>Engineer</dt>\n",
       "\t\t<dd>2743</dd>\n",
       "\t<dt>President</dt>\n",
       "\t\t<dd>2679</dd>\n",
       "\t<dt>Vice President</dt>\n",
       "\t\t<dd>2560</dd>\n",
       "\t<dt>driver</dt>\n",
       "\t\t<dd>2479</dd>\n",
       "\t<dt>Attorney</dt>\n",
       "\t\t<dd>2231</dd>\n",
       "\t<dt>Operations Manager</dt>\n",
       "\t\t<dd>2166</dd>\n",
       "\t<dt>Administrative Assistant</dt>\n",
       "\t\t<dd>2148</dd>\n",
       "\t<dt>Accountant</dt>\n",
       "\t\t<dd>2114</dd>\n",
       "\t<dt>Sales Manager</dt>\n",
       "\t\t<dd>1901</dd>\n",
       "\t<dt>supervisor</dt>\n",
       "\t\t<dd>1806</dd>\n",
       "\t<dt>sales</dt>\n",
       "\t\t<dd>1799</dd>\n",
       "\t<dt>Account Manager</dt>\n",
       "\t\t<dd>1786</dd>\n",
       "\t<dt>Police Officer</dt>\n",
       "\t\t<dd>1782</dd>\n",
       "\t<dt>Executive Assistant</dt>\n",
       "\t\t<dd>1690</dd>\n",
       "\t<dt>Technician</dt>\n",
       "\t\t<dd>1673</dd>\n",
       "\t<dt>Analyst</dt>\n",
       "\t\t<dd>1616</dd>\n",
       "\t<dt>Store Manager</dt>\n",
       "\t\t<dd>1568</dd>\n",
       "\t<dt>Nurse</dt>\n",
       "\t\t<dd>1476</dd>\n",
       "\t<dt>truck driver</dt>\n",
       "\t\t<dd>1464</dd>\n",
       "\t<dt>Truck Driver</dt>\n",
       "\t\t<dd>1453</dd>\n",
       "\t<dt>Paralegal</dt>\n",
       "\t\t<dd>1377</dd>\n",
       "\t<dt>Software Engineer</dt>\n",
       "\t\t<dd>1367</dd>\n",
       "\t<dt>Consultant</dt>\n",
       "\t\t<dd>1292</dd>\n",
       "\t<dt>Assistant Manager</dt>\n",
       "\t\t<dd>1285</dd>\n",
       "\t<dt>Controller</dt>\n",
       "\t\t<dd>1253</dd>\n",
       "\t<dt>Branch Manager</dt>\n",
       "\t\t<dd>1229</dd>\n",
       "\t<dt>Program Manager</dt>\n",
       "\t\t<dd>1222</dd>\n",
       "\t<dt>Account Executive</dt>\n",
       "\t\t<dd>1163</dd>\n",
       "\t<dt>Administrator</dt>\n",
       "\t\t<dd>1160</dd>\n",
       "\t<dt>Server</dt>\n",
       "\t\t<dd>1160</dd>\n",
       "\t<dt>Mechanic</dt>\n",
       "\t\t<dd>1140</dd>\n",
       "\t<dt>Principal</dt>\n",
       "\t\t<dd>1118</dd>\n",
       "\t<dt>Business Analyst</dt>\n",
       "\t\t<dd>1043</dd>\n",
       "\t<dt>registered nurse</dt>\n",
       "\t\t<dd>1026</dd>\n",
       "\t<dt>Registered nurse</dt>\n",
       "\t\t<dd>1024</dd>\n",
       "\t<dt>Electrician</dt>\n",
       "\t\t<dd>1009</dd>\n",
       "\t<dt>Executive Director</dt>\n",
       "\t\t<dd>995</dd>\n",
       "\t<dt>CEO</dt>\n",
       "\t\t<dd>993</dd>\n",
       "\t<dt>Professor</dt>\n",
       "\t\t<dd>980</dd>\n",
       "\t<dt>IT Manager</dt>\n",
       "\t\t<dd>963</dd>\n",
       "\t<dt>Foreman</dt>\n",
       "\t\t<dd>937</dd>\n",
       "\t<dt>mechanic</dt>\n",
       "\t\t<dd>906</dd>\n",
       "\t<dt>Superintendent</dt>\n",
       "\t\t<dd>898</dd>\n",
       "\t<dt>Customer Service</dt>\n",
       "\t\t<dd>876</dd>\n",
       "\t<dt>Associate</dt>\n",
       "\t\t<dd>841</dd>\n",
       "\t<dt>Director of Operations</dt>\n",
       "\t\t<dd>837</dd>\n",
       "\t<dt>Secretary</dt>\n",
       "\t\t<dd>827</dd>\n",
       "\t<dt>Legal Assistant</dt>\n",
       "\t\t<dd>819</dd>\n",
       "\t<dt>Operator</dt>\n",
       "\t\t<dd>819</dd>\n",
       "\t<dt>District Manager</dt>\n",
       "\t\t<dd>777</dd>\n",
       "\t<dt>LPN</dt>\n",
       "\t\t<dd>765</dd>\n",
       "\t<dt>Pharmacist</dt>\n",
       "\t\t<dd>751</dd>\n",
       "\t<dt>Financial Analyst</dt>\n",
       "\t\t<dd>744</dd>\n",
       "\t<dt>Financial Advisor</dt>\n",
       "\t\t<dd>738</dd>\n",
       "\t<dt>Physician</dt>\n",
       "\t\t<dd>732</dd>\n",
       "\t<dt>Truck driver</dt>\n",
       "\t\t<dd>720</dd>\n",
       "\t<dt>Maintenance</dt>\n",
       "\t\t<dd>708</dd>\n",
       "\t<dt>Officer</dt>\n",
       "\t\t<dd>676</dd>\n",
       "\t<dt>nurse</dt>\n",
       "\t\t<dd>676</dd>\n",
       "\t<dt>technician</dt>\n",
       "\t\t<dd>675</dd>\n",
       "\t<dt>Machinist</dt>\n",
       "\t\t<dd>669</dd>\n",
       "\t<dt>Accounting Manager</dt>\n",
       "\t\t<dd>663</dd>\n",
       "\t<dt>Clerk</dt>\n",
       "\t\t<dd>660</dd>\n",
       "\t<dt>Bartender</dt>\n",
       "\t\t<dd>650</dd>\n",
       "\t<dt>Instructor</dt>\n",
       "\t\t<dd>650</dd>\n",
       "\t<dt>US Army</dt>\n",
       "\t\t<dd>648</dd>\n",
       "\t<dt>Social Worker</dt>\n",
       "\t\t<dd>647</dd>\n",
       "\t<dt>Firefighter</dt>\n",
       "\t\t<dd>626</dd>\n",
       "\t<dt>Bookkeeper</dt>\n",
       "\t\t<dd>621</dd>\n",
       "\t<dt>Senior Manager</dt>\n",
       "\t\t<dd>602</dd>\n",
       "\t<dt>CNA</dt>\n",
       "\t\t<dd>596</dd>\n",
       "\t<dt>Marketing Manager</dt>\n",
       "\t\t<dd>594</dd>\n",
       "\t<dt>Production Manager</dt>\n",
       "\t\t<dd>593</dd>\n",
       "\t<dt>server</dt>\n",
       "\t\t<dd>589</dd>\n",
       "\t<dt>MANAGER</dt>\n",
       "\t\t<dd>587</dd>\n",
       "\t<dt>Business Manager</dt>\n",
       "\t\t<dd>586</dd>\n",
       "\t<dt>Senior Accountant</dt>\n",
       "\t\t<dd>576</dd>\n",
       "\t<dt>Sales Associate</dt>\n",
       "\t\t<dd>573</dd>\n",
       "\t<dt>Nurse Practitioner</dt>\n",
       "\t\t<dd>567</dd>\n",
       "\t<dt>VP</dt>\n",
       "\t\t<dd>565</dd>\n",
       "\t<dt>Counselor</dt>\n",
       "\t\t<dd>564</dd>\n",
       "\t<dt>IT Specialist</dt>\n",
       "\t\t<dd>562</dd>\n",
       "\t<dt>Service Manager</dt>\n",
       "\t\t<dd>558</dd>\n",
       "\t<dt>(Other)</dt>\n",
       "\t\t<dd>665148</dd>\n",
       "\t<dt>NA's</dt>\n",
       "\t\t<dd>51457</dd>\n",
       "</dl>\n"
      ],
      "text/latex": [
       "\\begin{description*}\n",
       "\\item[Teacher] 13807\n",
       "\\item[Manager] 11638\n",
       "\\item[Registered Nurse] 5691\n",
       "\\item[Owner] 5512\n",
       "\\item[RN] 5491\n",
       "\\item[Supervisor] 5414\n",
       "\\item[Sales] 4457\n",
       "\\item[Project Manager] 4087\n",
       "\\item[Driver] 3722\n",
       "\\item[Office Manager] 3615\n",
       "\\item[Director] 3328\n",
       "\\item[General Manager] 3281\n",
       "\\item[manager] 3247\n",
       "\\item[teacher] 2979\n",
       "\\item[owner] 2904\n",
       "\\item[Engineer] 2743\n",
       "\\item[President] 2679\n",
       "\\item[Vice President] 2560\n",
       "\\item[driver] 2479\n",
       "\\item[Attorney] 2231\n",
       "\\item[Operations Manager] 2166\n",
       "\\item[Administrative Assistant] 2148\n",
       "\\item[Accountant] 2114\n",
       "\\item[Sales Manager] 1901\n",
       "\\item[supervisor] 1806\n",
       "\\item[sales] 1799\n",
       "\\item[Account Manager] 1786\n",
       "\\item[Police Officer] 1782\n",
       "\\item[Executive Assistant] 1690\n",
       "\\item[Technician] 1673\n",
       "\\item[Analyst] 1616\n",
       "\\item[Store Manager] 1568\n",
       "\\item[Nurse] 1476\n",
       "\\item[truck driver] 1464\n",
       "\\item[Truck Driver] 1453\n",
       "\\item[Paralegal] 1377\n",
       "\\item[Software Engineer] 1367\n",
       "\\item[Consultant] 1292\n",
       "\\item[Assistant Manager] 1285\n",
       "\\item[Controller] 1253\n",
       "\\item[Branch Manager] 1229\n",
       "\\item[Program Manager] 1222\n",
       "\\item[Account Executive] 1163\n",
       "\\item[Administrator] 1160\n",
       "\\item[Server] 1160\n",
       "\\item[Mechanic] 1140\n",
       "\\item[Principal] 1118\n",
       "\\item[Business Analyst] 1043\n",
       "\\item[registered nurse] 1026\n",
       "\\item[Registered nurse] 1024\n",
       "\\item[Electrician] 1009\n",
       "\\item[Executive Director] 995\n",
       "\\item[CEO] 993\n",
       "\\item[Professor] 980\n",
       "\\item[IT Manager] 963\n",
       "\\item[Foreman] 937\n",
       "\\item[mechanic] 906\n",
       "\\item[Superintendent] 898\n",
       "\\item[Customer Service] 876\n",
       "\\item[Associate] 841\n",
       "\\item[Director of Operations] 837\n",
       "\\item[Secretary] 827\n",
       "\\item[Legal Assistant] 819\n",
       "\\item[Operator] 819\n",
       "\\item[District Manager] 777\n",
       "\\item[LPN] 765\n",
       "\\item[Pharmacist] 751\n",
       "\\item[Financial Analyst] 744\n",
       "\\item[Financial Advisor] 738\n",
       "\\item[Physician] 732\n",
       "\\item[Truck driver] 720\n",
       "\\item[Maintenance] 708\n",
       "\\item[Officer] 676\n",
       "\\item[nurse] 676\n",
       "\\item[technician] 675\n",
       "\\item[Machinist] 669\n",
       "\\item[Accounting Manager] 663\n",
       "\\item[Clerk] 660\n",
       "\\item[Bartender] 650\n",
       "\\item[Instructor] 650\n",
       "\\item[US Army] 648\n",
       "\\item[Social Worker] 647\n",
       "\\item[Firefighter] 626\n",
       "\\item[Bookkeeper] 621\n",
       "\\item[Senior Manager] 602\n",
       "\\item[CNA] 596\n",
       "\\item[Marketing Manager] 594\n",
       "\\item[Production Manager] 593\n",
       "\\item[server] 589\n",
       "\\item[MANAGER] 587\n",
       "\\item[Business Manager] 586\n",
       "\\item[Senior Accountant] 576\n",
       "\\item[Sales Associate] 573\n",
       "\\item[Nurse Practitioner] 567\n",
       "\\item[VP] 565\n",
       "\\item[Counselor] 564\n",
       "\\item[IT Specialist] 562\n",
       "\\item[Service Manager] 558\n",
       "\\item[(Other)] 665148\n",
       "\\item[NA's] 51457\n",
       "\\end{description*}\n"
      ],
      "text/markdown": [
       "Teacher\n",
       ":   13807Manager\n",
       ":   11638Registered Nurse\n",
       ":   5691Owner\n",
       ":   5512RN\n",
       ":   5491Supervisor\n",
       ":   5414Sales\n",
       ":   4457Project Manager\n",
       ":   4087Driver\n",
       ":   3722Office Manager\n",
       ":   3615Director\n",
       ":   3328General Manager\n",
       ":   3281manager\n",
       ":   3247teacher\n",
       ":   2979owner\n",
       ":   2904Engineer\n",
       ":   2743President\n",
       ":   2679Vice President\n",
       ":   2560driver\n",
       ":   2479Attorney\n",
       ":   2231Operations Manager\n",
       ":   2166Administrative Assistant\n",
       ":   2148Accountant\n",
       ":   2114Sales Manager\n",
       ":   1901supervisor\n",
       ":   1806sales\n",
       ":   1799Account Manager\n",
       ":   1786Police Officer\n",
       ":   1782Executive Assistant\n",
       ":   1690Technician\n",
       ":   1673Analyst\n",
       ":   1616Store Manager\n",
       ":   1568Nurse\n",
       ":   1476truck driver\n",
       ":   1464Truck Driver\n",
       ":   1453Paralegal\n",
       ":   1377Software Engineer\n",
       ":   1367Consultant\n",
       ":   1292Assistant Manager\n",
       ":   1285Controller\n",
       ":   1253Branch Manager\n",
       ":   1229Program Manager\n",
       ":   1222Account Executive\n",
       ":   1163Administrator\n",
       ":   1160Server\n",
       ":   1160Mechanic\n",
       ":   1140Principal\n",
       ":   1118Business Analyst\n",
       ":   1043registered nurse\n",
       ":   1026Registered nurse\n",
       ":   1024Electrician\n",
       ":   1009Executive Director\n",
       ":   995CEO\n",
       ":   993Professor\n",
       ":   980IT Manager\n",
       ":   963Foreman\n",
       ":   937mechanic\n",
       ":   906Superintendent\n",
       ":   898Customer Service\n",
       ":   876Associate\n",
       ":   841Director of Operations\n",
       ":   837Secretary\n",
       ":   827Legal Assistant\n",
       ":   819Operator\n",
       ":   819District Manager\n",
       ":   777LPN\n",
       ":   765Pharmacist\n",
       ":   751Financial Analyst\n",
       ":   744Financial Advisor\n",
       ":   738Physician\n",
       ":   732Truck driver\n",
       ":   720Maintenance\n",
       ":   708Officer\n",
       ":   676nurse\n",
       ":   676technician\n",
       ":   675Machinist\n",
       ":   669Accounting Manager\n",
       ":   663Clerk\n",
       ":   660Bartender\n",
       ":   650Instructor\n",
       ":   650US Army\n",
       ":   648Social Worker\n",
       ":   647Firefighter\n",
       ":   626Bookkeeper\n",
       ":   621Senior Manager\n",
       ":   602CNA\n",
       ":   596Marketing Manager\n",
       ":   594Production Manager\n",
       ":   593server\n",
       ":   589MANAGER\n",
       ":   587Business Manager\n",
       ":   586Senior Accountant\n",
       ":   576Sales Associate\n",
       ":   573Nurse Practitioner\n",
       ":   567VP\n",
       ":   565Counselor\n",
       ":   564IT Specialist\n",
       ":   562Service Manager\n",
       ":   558(Other)\n",
       ":   665148NA's\n",
       ":   51457\n",
       "\n"
      ],
      "text/plain": [
       "                 Teacher                  Manager         Registered Nurse \n",
       "                   13807                    11638                     5691 \n",
       "                   Owner                       RN               Supervisor \n",
       "                    5512                     5491                     5414 \n",
       "                   Sales          Project Manager                   Driver \n",
       "                    4457                     4087                     3722 \n",
       "          Office Manager                 Director          General Manager \n",
       "                    3615                     3328                     3281 \n",
       "                 manager                  teacher                    owner \n",
       "                    3247                     2979                     2904 \n",
       "                Engineer                President           Vice President \n",
       "                    2743                     2679                     2560 \n",
       "                  driver                 Attorney       Operations Manager \n",
       "                    2479                     2231                     2166 \n",
       "Administrative Assistant               Accountant            Sales Manager \n",
       "                    2148                     2114                     1901 \n",
       "              supervisor                    sales          Account Manager \n",
       "                    1806                     1799                     1786 \n",
       "          Police Officer      Executive Assistant               Technician \n",
       "                    1782                     1690                     1673 \n",
       "                 Analyst            Store Manager                    Nurse \n",
       "                    1616                     1568                     1476 \n",
       "            truck driver             Truck Driver                Paralegal \n",
       "                    1464                     1453                     1377 \n",
       "       Software Engineer               Consultant        Assistant Manager \n",
       "                    1367                     1292                     1285 \n",
       "              Controller           Branch Manager          Program Manager \n",
       "                    1253                     1229                     1222 \n",
       "       Account Executive            Administrator                   Server \n",
       "                    1163                     1160                     1160 \n",
       "                Mechanic                Principal         Business Analyst \n",
       "                    1140                     1118                     1043 \n",
       "        registered nurse         Registered nurse              Electrician \n",
       "                    1026                     1024                     1009 \n",
       "      Executive Director                      CEO                Professor \n",
       "                     995                      993                      980 \n",
       "              IT Manager                  Foreman                 mechanic \n",
       "                     963                      937                      906 \n",
       "          Superintendent         Customer Service                Associate \n",
       "                     898                      876                      841 \n",
       "  Director of Operations                Secretary          Legal Assistant \n",
       "                     837                      827                      819 \n",
       "                Operator         District Manager                      LPN \n",
       "                     819                      777                      765 \n",
       "              Pharmacist        Financial Analyst        Financial Advisor \n",
       "                     751                      744                      738 \n",
       "               Physician             Truck driver              Maintenance \n",
       "                     732                      720                      708 \n",
       "                 Officer                    nurse               technician \n",
       "                     676                      676                      675 \n",
       "               Machinist       Accounting Manager                    Clerk \n",
       "                     669                      663                      660 \n",
       "               Bartender               Instructor                  US Army \n",
       "                     650                      650                      648 \n",
       "           Social Worker              Firefighter               Bookkeeper \n",
       "                     647                      626                      621 \n",
       "          Senior Manager                      CNA        Marketing Manager \n",
       "                     602                      596                      594 \n",
       "      Production Manager                   server                  MANAGER \n",
       "                     593                      589                      587 \n",
       "        Business Manager        Senior Accountant          Sales Associate \n",
       "                     586                      576                      573 \n",
       "      Nurse Practitioner                       VP                Counselor \n",
       "                     567                      565                      564 \n",
       "           IT Specialist          Service Manager                  (Other) \n",
       "                     562                      558                   665148 \n",
       "                    NA's \n",
       "                   51457 "
      ]
     },
     "metadata": {},
     "output_type": "display_data"
    }
   ],
   "source": [
    "summary(total$emp_title)"
   ]
  },
  {
   "cell_type": "code",
   "execution_count": 32,
   "metadata": {
    "collapsed": true
   },
   "outputs": [],
   "source": [
    "total$emp_title = as.character(total$emp_title)"
   ]
  },
  {
   "cell_type": "code",
   "execution_count": 33,
   "metadata": {
    "collapsed": true
   },
   "outputs": [],
   "source": [
    "## Replace the 'emp_title' which appears only once by 'emp_type_1'\n",
    "total$emp_title[total$emp_title %in% emp_title1$Var1] = 'emp_type_1'"
   ]
  },
  {
   "cell_type": "code",
   "execution_count": 34,
   "metadata": {
    "collapsed": true
   },
   "outputs": [],
   "source": [
    "emp_title2 = emp_title[emp_title$Freq > 1 & emp_title$Freq <= 100,]"
   ]
  },
  {
   "cell_type": "code",
   "execution_count": 35,
   "metadata": {
    "collapsed": true
   },
   "outputs": [],
   "source": [
    "## Replace the 'emp_title' which appears with frequence between 1 and 100 by 'emp_type_2'\n",
    "total$emp_title[total$emp_title %in% emp_title2$Var1] = 'emp_type_2'"
   ]
  },
  {
   "cell_type": "code",
   "execution_count": 36,
   "metadata": {
    "collapsed": true
   },
   "outputs": [],
   "source": [
    "total$emp_title = as.factor(total$emp_title)"
   ]
  },
  {
   "cell_type": "code",
   "execution_count": 38,
   "metadata": {
    "collapsed": true
   },
   "outputs": [],
   "source": [
    "model.rpart = rpart(loan_status ~ ., data = head(total,nrow(train)), method = \"class\")"
   ]
  },
  {
   "cell_type": "code",
   "execution_count": 39,
   "metadata": {
    "collapsed": true
   },
   "outputs": [],
   "source": [
    "pred.rpart = predict(model.rpart, tail(total, nrow(test)), type = \"prob\")"
   ]
  },
  {
   "cell_type": "code",
   "execution_count": 41,
   "metadata": {
    "collapsed": false
   },
   "outputs": [],
   "source": [
    "submit = data.frame(member_id = test$member_id, loan_status = pred.rpart[,2])"
   ]
  },
  {
   "cell_type": "code",
   "execution_count": 42,
   "metadata": {
    "collapsed": true
   },
   "outputs": [],
   "source": [
    "## Now there are some cases where probability may come out to be absolute 0 or 1 which is not accepted because as per the\n",
    "## competition's rule, values must be between 0 and 1. So we need to deal with such cases.\n",
    "submit$loan_status[submit$loan_status == 0] = 0.001\n",
    "submit$loan_status[submit$loan_status == 1] = 0.999"
   ]
  },
  {
   "cell_type": "code",
   "execution_count": 43,
   "metadata": {
    "collapsed": true
   },
   "outputs": [],
   "source": [
    "write.csv(submit, \"sub.rpart.csv\", row.names = F)"
   ]
  },
  {
   "cell_type": "code",
   "execution_count": null,
   "metadata": {
    "collapsed": true
   },
   "outputs": [],
   "source": []
  }
 ],
 "metadata": {
  "kernelspec": {
   "display_name": "R",
   "language": "R",
   "name": "ir"
  },
  "language_info": {
   "codemirror_mode": "r",
   "file_extension": ".r",
   "mimetype": "text/x-r-source",
   "name": "R",
   "pygments_lexer": "r",
   "version": "3.3.1"
  }
 },
 "nbformat": 4,
 "nbformat_minor": 2
}
