{
 "cells": [
  {
   "cell_type": "code",
   "execution_count": 1,
   "metadata": {
    "collapsed": true
   },
   "outputs": [],
   "source": [
    "## rpart model gave an accuracy of 67% using AUC-ROC method and needs to be improved\n",
    "## Let's start again"
   ]
  },
  {
   "cell_type": "code",
   "execution_count": 3,
   "metadata": {
    "collapsed": false
   },
   "outputs": [
    {
     "name": "stdout",
     "output_type": "stream",
     "text": [
      "Read 532428 rows and 45 (of 45) columns from 0.134 GB file in 00:00:07\n",
      "Read 354951 rows and 44 (of 44) columns from 0.089 GB file in 00:00:04\n"
     ]
    }
   ],
   "source": [
    "train = fread(\"train.csv\", na.strings = c(\"\",\" \", NA), stringsAsFactors = T)\n",
    "test = fread(\"test.csv\", na.strings = c(\"\",\" \" ,NA), stringsAsFactors = T)"
   ]
  },
  {
   "cell_type": "code",
   "execution_count": 4,
   "metadata": {
    "collapsed": true
   },
   "outputs": [],
   "source": [
    "test$loan_status = NA\n",
    "total = rbindlist(list(train,test), fill = T)"
   ]
  },
  {
   "cell_type": "code",
   "execution_count": 5,
   "metadata": {
    "collapsed": false
   },
   "outputs": [
    {
     "data": {
      "text/plain": [
       "pymnt_plan\n",
       "           n            y \n",
       "9.999887e-01 1.126914e-05 "
      ]
     },
     "metadata": {},
     "output_type": "display_data"
    }
   ],
   "source": [
    "total[,prop.table(table(pymnt_plan))]"
   ]
  },
  {
   "cell_type": "code",
   "execution_count": 6,
   "metadata": {
    "collapsed": false
   },
   "outputs": [
    {
     "data": {
      "text/plain": [
       "initial_list_status\n",
       "        f         w \n",
       "0.5148285 0.4851715 "
      ]
     },
     "metadata": {},
     "output_type": "display_data"
    }
   ],
   "source": [
    "total[,prop.table(table(initial_list_status))]"
   ]
  },
  {
   "cell_type": "code",
   "execution_count": 7,
   "metadata": {
    "collapsed": false
   },
   "outputs": [
    {
     "data": {
      "text/html": [
       "289208"
      ],
      "text/latex": [
       "289208"
      ],
      "text/markdown": [
       "289208"
      ],
      "text/plain": [
       "[1] 289208"
      ]
     },
     "metadata": {},
     "output_type": "display_data"
    }
   ],
   "source": [
    "length(unique(total$emp_title))"
   ]
  },
  {
   "cell_type": "code",
   "execution_count": 8,
   "metadata": {
    "collapsed": false,
    "scrolled": true
   },
   "outputs": [
    {
     "name": "stdout",
     "output_type": "stream",
     "text": [
      "Classes 'data.table' and 'data.frame':\t887379 obs. of  45 variables:\n",
      " $ member_id                  : int  58189336 70011223 70255675 1893936 7652106 10247268 8089625 23043116 45900933 41272507 ...\n",
      " $ loan_amnt                  : int  14350 4800 10000 15000 16000 15000 5000 6000 6000 34550 ...\n",
      " $ funded_amnt                : int  14350 4800 10000 15000 16000 15000 5000 6000 6000 34550 ...\n",
      " $ funded_amnt_inv            : num  14350 4800 10000 15000 16000 ...\n",
      " $ term                       : Factor w/ 2 levels \"36 months\",\"60 months\": 1 1 1 1 1 1 1 1 1 2 ...\n",
      " $ batch_enrolled             : Factor w/ 206 levels \"BAT1104812\",\"BAT1135695\",..: NA 9 9 80 35 32 NA NA 64 73 ...\n",
      " $ int_rate                   : num  19.19 10.99 7.26 19.72 10.64 ...\n",
      " $ grade                      : Factor w/ 7 levels \"A\",\"B\",\"C\",\"D\",..: 5 2 1 4 2 1 1 2 3 4 ...\n",
      " $ sub_grade                  : Factor w/ 35 levels \"A1\",\"A2\",\"A3\",..: 23 9 4 20 7 5 4 6 14 19 ...\n",
      " $ emp_title                  : Factor w/ 289207 levels \"\\tAdv Mtr Proj Fld Rep\",..: 166903 68596 46756 154078 77456 40887...\n",
      " $ emp_length                 : Factor w/ 12 levels \"1 year\",\"10+ years\",..: 10 11 3 2 2 3 6 9 8 3 ...\n",
      " $ home_ownership             : Factor w/ 6 levels \"ANY\",\"MORTGAGE\",..: 5 2 5 6 6 2 6 2 2 2 ...\n",
      " $ annual_inc                 : num  28700 65000 45000 105000 52000 120000 75000 54000 92000 72000 ...\n",
      " $ verification_status        : Factor w/ 3 levels \"Not Verified\",..: 2 2 1 1 3 1 2 1 1 3 ...\n",
      " $ pymnt_plan                 : Factor w/ 2 levels \"n\",\"y\": 1 1 1 1 1 1 1 1 1 1 ...\n",
      " $ desc                       : Factor w/ 116825 levels \"\\t The business was started just over a year ago. It is a business services company providing virtual office space, conference \"| __truncated__,..: NA NA NA 44558 NA 18687 27316 NA NA NA ...\n",
      " $ purpose                    : Factor w/ 14 levels \"car\",\"credit_card\",..: 3 5 3 3 2 3 3 2 5 3 ...\n",
      " $ title                      : Factor w/ 61452 levels \"\\tcredit_card\",..: 10358 16027 10358 10358 38259 7085 22675 8104 16027...\n",
      " $ zip_code                   : Factor w/ 935 levels \"007xx\",\"008xx\",..: 334 196 428 207 822 441 835 336 839 409 ...\n",
      " $ addr_state                 : Factor w/ 51 levels \"AK\",\"AL\",\"AR\",..: 10 21 36 46 5 16 5 2 5 18 ...\n",
      " $ dti                        : num  33.88 3.64 18.42 14.97 20.16 ...\n",
      " $ delinq_2yrs                : int  0 0 0 0 0 0 0 0 0 0 ...\n",
      " $ inq_last_6mths             : int  1 1 0 2 0 0 0 1 0 0 ...\n",
      " $ mths_since_last_delinq     : int  50 NA NA 46 NA 56 NA 46 77 NA ...\n",
      " $ mths_since_last_record     : int  75 NA NA NA NA NA 105 NA NA NA ...\n",
      " $ open_acc                   : int  14 6 5 10 11 18 13 13 16 12 ...\n",
      " $ pub_rec                    : int  1 0 0 0 0 0 2 0 0 0 ...\n",
      " $ revol_bal                  : num  22515 7624 10877 13712 35835 ...\n",
      " $ revol_util                 : num  73.1 23.2 31.2 55.5 76.2 64.5 23.9 29.5 76.6 90.5 ...\n",
      " $ total_acc                  : int  28 13 19 21 27 30 23 49 27 30 ...\n",
      " $ initial_list_status        : Factor w/ 2 levels \"f\",\"w\": 1 2 2 1 2 1 1 1 2 2 ...\n",
      " $ total_rec_int              : num  1173.8 84 56.5 4858.6 2296.4 ...\n",
      " $ total_rec_late_fee         : num  0 0 0 0 0 0 0 0 0 0 ...\n",
      " $ recoveries                 : num  0 0 0 0 0 0 0 0 0 0 ...\n",
      " $ collection_recovery_fee    : num  0 0 0 0 0 0 0 0 0 0 ...\n",
      " $ collections_12_mths_ex_med : int  0 0 0 0 0 0 0 0 0 0 ...\n",
      " $ mths_since_last_major_derog: int  74 NA NA NA NA NA NA 54 NA NA ...\n",
      " $ application_type           : Factor w/ 2 levels \"INDIVIDUAL\",\"JOINT\": 1 1 1 1 1 1 1 1 1 1 ...\n",
      " $ verification_status_joint  : Factor w/ 3 levels \"Not Verified\",..: NA NA NA NA NA NA NA NA NA NA ...\n",
      " $ last_week_pay              : Factor w/ 98 levels \"0th week\",\"100th week\",..: 63 97 97 14 96 6 7 87 76 79 ...\n",
      " $ acc_now_delinq             : int  0 0 0 0 0 0 0 0 0 0 ...\n",
      " $ tot_coll_amt               : int  0 0 65 0 0 0 1023 0 0 0 ...\n",
      " $ tot_cur_bal                : num  28699 9974 38295 55564 47159 ...\n",
      " $ total_rev_hi_lim           : num  30800 32900 34900 24700 47033 ...\n",
      " $ loan_status                : int  0 0 0 0 0 0 1 0 0 0 ...\n",
      " - attr(*, \".internal.selfref\")=<externalptr> \n"
     ]
    }
   ],
   "source": [
    "str(total)"
   ]
  },
  {
   "cell_type": "code",
   "execution_count": 9,
   "metadata": {
    "collapsed": true
   },
   "outputs": [],
   "source": [
    "## Convert the variables with large number of levels into integers otherwise with this many levels, logistic regression model\n",
    "## will give memory errors\n",
    "total$title = as.integer(total$title)\n",
    "total$emp_title = as.integer(total$emp_title)"
   ]
  },
  {
   "cell_type": "code",
   "execution_count": 10,
   "metadata": {
    "collapsed": true
   },
   "outputs": [],
   "source": [
    "levels(total$term)[levels(total$term) == \"36 months\"] = 36\n",
    "levels(total$term)[levels(total$term) == \"60 months\"] = 60"
   ]
  },
  {
   "cell_type": "code",
   "execution_count": 11,
   "metadata": {
    "collapsed": true
   },
   "outputs": [],
   "source": [
    "levels(total$grade)[levels(total$grade) == \"A\"] = 0\n",
    "levels(total$grade)[levels(total$grade) == \"B\"] = 1\n",
    "levels(total$grade)[levels(total$grade) == \"C\"] = 2\n",
    "levels(total$grade)[levels(total$grade) == \"D\"] = 3\n",
    "levels(total$grade)[levels(total$grade) == \"E\"] = 4\n",
    "levels(total$grade)[levels(total$grade) == \"F\"] = 5\n",
    "levels(total$grade)[levels(total$grade) == \"G\"] = 6"
   ]
  },
  {
   "cell_type": "code",
   "execution_count": 12,
   "metadata": {
    "collapsed": false
   },
   "outputs": [
    {
     "data": {
      "text/plain": [
       "\n",
       "     0      1      2      3      4      5      6 \n",
       "148202 254535 245860 139542  70705  23046   5489 "
      ]
     },
     "metadata": {},
     "output_type": "display_data"
    }
   ],
   "source": [
    "table(total$grade)"
   ]
  },
  {
   "cell_type": "code",
   "execution_count": 13,
   "metadata": {
    "collapsed": true
   },
   "outputs": [],
   "source": [
    "total$sub_grade = as.integer(total$sub_grade) - 1\n",
    "total$sub_grade = as.factor(total$sub_grade)"
   ]
  },
  {
   "cell_type": "code",
   "execution_count": 14,
   "metadata": {
    "collapsed": false
   },
   "outputs": [
    {
     "data": {
      "text/plain": [
       "\n",
       "    0     1     2     3     4     5     6     7     8     9    10    11    12 \n",
       "22913 22485 23457 34531 44816 44972 48781 56323 55626 48833 53387 52236 50161 \n",
       "   13    14    15    16    17    18    19    20    21    22    23    24    25 \n",
       "48857 41219 36238 29803 26554 25558 21389 18268 17004 14134 11724  9575  7218 \n",
       "   26    27    28    29    30    31    32    33    34 \n",
       " 5392  4433  3409  2594  1871  1398   981   663   576 "
      ]
     },
     "metadata": {},
     "output_type": "display_data"
    }
   ],
   "source": [
    "table(total$sub_grade)"
   ]
  },
  {
   "cell_type": "code",
   "execution_count": 15,
   "metadata": {
    "collapsed": true
   },
   "outputs": [],
   "source": [
    "## 1 is substracted from each variable just to make factors start from 0 instead of 1\n",
    "total$emp_length = as.integer(total$emp_length) - 1\n",
    "total$emp_length = as.factor(total$emp_length)"
   ]
  },
  {
   "cell_type": "code",
   "execution_count": 16,
   "metadata": {
    "collapsed": false
   },
   "outputs": [
    {
     "data": {
      "text/plain": [
       "\n",
       "     0      1      2      3      4      5      6      7      8      9     10 \n",
       " 57095 291569  78870  70026  52529  55704  42950  44594  43955  34657  70605 \n",
       "    11 \n",
       " 44825 "
      ]
     },
     "metadata": {},
     "output_type": "display_data"
    }
   ],
   "source": [
    "table(total$emp_length)"
   ]
  },
  {
   "cell_type": "code",
   "execution_count": 17,
   "metadata": {
    "collapsed": true
   },
   "outputs": [],
   "source": [
    "total$home_ownership = as.integer(total$home_ownership) - 1\n",
    "total$home_ownership = as.integer(total$home_ownership)"
   ]
  },
  {
   "cell_type": "code",
   "execution_count": 18,
   "metadata": {
    "collapsed": true
   },
   "outputs": [],
   "source": [
    "total$verification_status = as.integer(total$verification_status) - 1\n",
    "total$verification_status = as.factor(total$verification_status)"
   ]
  },
  {
   "cell_type": "code",
   "execution_count": 19,
   "metadata": {
    "collapsed": true
   },
   "outputs": [],
   "source": [
    "total$purpose = as.integer(total$purpose) - 1\n",
    "total$purpose = as.factor(total$purpose)"
   ]
  },
  {
   "cell_type": "code",
   "execution_count": 20,
   "metadata": {
    "collapsed": true
   },
   "outputs": [],
   "source": [
    "## It is not converted to factors because it has large number of levels\n",
    "total$addr_state = as.integer(total$addr_state)"
   ]
  },
  {
   "cell_type": "code",
   "execution_count": 21,
   "metadata": {
    "collapsed": true
   },
   "outputs": [],
   "source": [
    "total$initial_list_status = as.integer(total$initial_list_status) - 1\n",
    "total$initial_list_status = as.factor(total$initial_list_status)"
   ]
  },
  {
   "cell_type": "code",
   "execution_count": 22,
   "metadata": {
    "collapsed": true
   },
   "outputs": [],
   "source": [
    "total$application_type = as.integer(total$application_type) - 1\n",
    "total$application_type = as.factor(total$application_type)"
   ]
  },
  {
   "cell_type": "code",
   "execution_count": 23,
   "metadata": {
    "collapsed": true
   },
   "outputs": [],
   "source": [
    "total$last_week_pay = as.integer(total$last_week_pay) - 1\n",
    "total$last_week_pay = as.factor(total$last_week_pay)"
   ]
  },
  {
   "cell_type": "code",
   "execution_count": 24,
   "metadata": {
    "collapsed": true
   },
   "outputs": [],
   "source": [
    "## For now let's remove the rows with large number of NA's and rows which does not seem very relevent at first sight\n",
    "total$tot_coll_amt=NULL\n",
    "total$tot_cur_bal=NULL\n",
    "total$total_rev_hi_lim=NULL\n",
    "total$emp_title=NULL\n",
    "total$member_id = NULL\n",
    "total$mths_since_last_delinq = NULL\n",
    "total$mths_since_last_record = NULL\n",
    "total$mths_since_last_major_derog = NULL\n",
    "total$verification_status_joint = NULL\n",
    "total$batch_enrolled=NULL\n",
    "total$desc=NULL\n",
    "total$zip_code=NULL"
   ]
  },
  {
   "cell_type": "code",
   "execution_count": 25,
   "metadata": {
    "collapsed": false,
    "scrolled": true
   },
   "outputs": [
    {
     "data": {
      "text/plain": [
       "   loan_amnt      funded_amnt    funded_amnt_inv term           int_rate    \n",
       " Min.   :  500   Min.   :  500   Min.   :    0   36:621125   Min.   : 5.32  \n",
       " 1st Qu.: 8000   1st Qu.: 8000   1st Qu.: 8000   60:266254   1st Qu.: 9.99  \n",
       " Median :13000   Median :13000   Median :13000               Median :12.99  \n",
       " Mean   :14755   Mean   :14742   Mean   :14702               Mean   :13.25  \n",
       " 3rd Qu.:20000   3rd Qu.:20000   3rd Qu.:20000               3rd Qu.:16.20  \n",
       " Max.   :35000   Max.   :35000   Max.   :35000               Max.   :28.99  \n",
       "                                                                            \n",
       " grade        sub_grade        emp_length     home_ownership    annual_inc     \n",
       " 0:148202   7      : 56323   1      :291569   Min.   :0.000   Min.   :      0  \n",
       " 1:254535   8      : 55626   2      : 78870   1st Qu.:1.000   1st Qu.:  45000  \n",
       " 2:245860   10     : 53387   10     : 70605   Median :3.000   Median :  65000  \n",
       " 3:139542   11     : 52236   3      : 70026   Mean   :2.901   Mean   :  75028  \n",
       " 4: 70705   12     : 50161   0      : 57095   3rd Qu.:5.000   3rd Qu.:  90000  \n",
       " 5: 23046   13     : 48857   5      : 55704   Max.   :5.000   Max.   :9500000  \n",
       " 6:  5489   (Other):570789   (Other):263510                   NA's   :4        \n",
       " verification_status pymnt_plan    purpose           title      \n",
       " 0:266750            n:887369   2      :524215   Min.   :    1  \n",
       " 1:329558            y:    10   1      :206182   1st Qu.: 8654  \n",
       " 2:291071                       4      : 51829   Median :10358  \n",
       "                                9      : 42894   Mean   :13428  \n",
       "                                6      : 17277   3rd Qu.:10569  \n",
       "                                11     : 10377   Max.   :61452  \n",
       "                                (Other): 34605   NA's   :151    \n",
       "   addr_state         dti           delinq_2yrs      inq_last_6mths   \n",
       " Min.   : 1.00   Min.   :   0.00   Min.   : 0.0000   Min.   : 0.0000  \n",
       " 1st Qu.:10.00   1st Qu.:  11.91   1st Qu.: 0.0000   1st Qu.: 0.0000  \n",
       " Median :24.00   Median :  17.65   Median : 0.0000   Median : 0.0000  \n",
       " Mean   :24.14   Mean   :  18.16   Mean   : 0.3144   Mean   : 0.6946  \n",
       " 3rd Qu.:37.00   3rd Qu.:  23.95   3rd Qu.: 0.0000   3rd Qu.: 1.0000  \n",
       " Max.   :51.00   Max.   :9999.00   Max.   :39.0000   Max.   :33.0000  \n",
       "                                   NA's   :29        NA's   :29       \n",
       "    open_acc        pub_rec          revol_bal         revol_util    \n",
       " Min.   : 0.00   Min.   : 0.0000   Min.   :      0   Min.   :  0.00  \n",
       " 1st Qu.: 8.00   1st Qu.: 0.0000   1st Qu.:   6443   1st Qu.: 37.70  \n",
       " Median :11.00   Median : 0.0000   Median :  11875   Median : 56.00  \n",
       " Mean   :11.55   Mean   : 0.1953   Mean   :  16921   Mean   : 55.07  \n",
       " 3rd Qu.:14.00   3rd Qu.: 0.0000   3rd Qu.:  20829   3rd Qu.: 73.60  \n",
       " Max.   :90.00   Max.   :86.0000   Max.   :2904836   Max.   :892.30  \n",
       " NA's   :29      NA's   :29                          NA's   :502     \n",
       "   total_acc      initial_list_status total_rec_int     total_rec_late_fee\n",
       " Min.   :  1.00   0:456848            Min.   :    0.0   Min.   :  0.0000  \n",
       " 1st Qu.: 17.00   1:430531            1st Qu.:  441.5   1st Qu.:  0.0000  \n",
       " Median : 24.00                       Median : 1073.3   Median :  0.0000  \n",
       " Mean   : 25.27                       Mean   : 1754.8   Mean   :  0.3967  \n",
       " 3rd Qu.: 32.00                       3rd Qu.: 2238.3   3rd Qu.:  0.0000  \n",
       " Max.   :169.00                       Max.   :24205.6   Max.   :358.6800  \n",
       " NA's   :29                                                               \n",
       "   recoveries       collection_recovery_fee collections_12_mths_ex_med\n",
       " Min.   :    0.00   Min.   :   0.000        Min.   : 0.00000          \n",
       " 1st Qu.:    0.00   1st Qu.:   0.000        1st Qu.: 0.00000          \n",
       " Median :    0.00   Median :   0.000        Median : 0.00000          \n",
       " Mean   :   45.92   Mean   :   4.881        Mean   : 0.01438          \n",
       " 3rd Qu.:    0.00   3rd Qu.:   0.000        3rd Qu.: 0.00000          \n",
       " Max.   :33520.27   Max.   :7002.190        Max.   :20.00000          \n",
       "                                            NA's   :145               \n",
       " application_type last_week_pay    acc_now_delinq       loan_status    \n",
       " 0:886868         15     : 50321   Min.   : 0.000000   Min.   :0.0     \n",
       " 1:   511         96     : 47680   1st Qu.: 0.000000   1st Qu.:0.0     \n",
       "                  62     : 45989   Median : 0.000000   Median :0.0     \n",
       "                  48     : 43342   Mean   : 0.004991   Mean   :0.2     \n",
       "                  77     : 43105   3rd Qu.: 0.000000   3rd Qu.:0.0     \n",
       "                  72     : 40162   Max.   :14.000000   Max.   :1.0     \n",
       "                  (Other):616780   NA's   :29          NA's   :354951  "
      ]
     },
     "metadata": {},
     "output_type": "display_data"
    }
   ],
   "source": [
    "summary(total)"
   ]
  },
  {
   "cell_type": "code",
   "execution_count": 26,
   "metadata": {
    "collapsed": true
   },
   "outputs": [],
   "source": [
    "## Let's deal with missing values\n",
    "## For now let's replace them with median\n",
    "total$annual_inc[is.na(total$annual_inc)] = 65000\n",
    "total$title[is.na(total$title)] = 10358\n",
    "total$delinq_2yrs[is.na(total$delinq_2yrs)] = 0\n",
    "total$inq_last_6mths[is.na(total$inq_last_6mths)] = 0\n",
    "total$open_acc[is.na(total$open_acc)] = 11\n",
    "total$pub_rec[is.na(total$pub_rec)] = 0\n",
    "total$revol_util[is.na(total$revol_util)] = 56\n",
    "total$total_acc[is.na(total$total_acc)] = 24\n",
    "total$collections_12_mths_ex_med[is.na(total$collections_12_mths_ex_med)] = 0.01438\n",
    "total$acc_now_delinq[is.na(total$acc_now_delinq)] = 0"
   ]
  },
  {
   "cell_type": "code",
   "execution_count": 27,
   "metadata": {
    "collapsed": false,
    "scrolled": true
   },
   "outputs": [
    {
     "data": {
      "image/png": "[encoded data removed]",
      "text/plain": [
       "plot without title"
      ]
     },
     "metadata": {},
     "output_type": "display_data"
    }
   ],
   "source": [
    "## let's look at some of the columns having outliers\n",
    "boxplot(total$dti)"
   ]
  },
  {
   "cell_type": "code",
   "execution_count": 28,
   "metadata": {
    "collapsed": true
   },
   "outputs": [],
   "source": [
    "## replace the outliers with the mean of the data\n",
    "total$dti[total$dti>50] = 18.16"
   ]
  },
  {
   "cell_type": "code",
   "execution_count": 29,
   "metadata": {
    "collapsed": false,
    "scrolled": true
   },
   "outputs": [
    {
     "data": {
      "image/png": "[encoded data removed]",
      "text/plain": [
       "plot without title"
      ]
     },
     "metadata": {},
     "output_type": "display_data"
    }
   ],
   "source": [
    "boxplot(total$collection_recovery_fee)"
   ]
  },
  {
   "cell_type": "code",
   "execution_count": 30,
   "metadata": {
    "collapsed": true
   },
   "outputs": [],
   "source": [
    "## too many outliers. We will deal with them later. For now let's remove this column\n",
    "total$collection_recovery_fee = NULL"
   ]
  },
  {
   "cell_type": "code",
   "execution_count": 32,
   "metadata": {
    "collapsed": false,
    "scrolled": true
   },
   "outputs": [
    {
     "name": "stdout",
     "output_type": "stream",
     "text": [
      "\n",
      "H2O is not running yet, starting it now...\n",
      "\n",
      "Note:  In case of errors look at the following log files:\n",
      "    C:\\Users\\MANISH~1\\AppData\\Local\\Temp\\RtmpMzeWlP/h2o_Manish_K_Sihag_started_from_r.out\n",
      "    C:\\Users\\MANISH~1\\AppData\\Local\\Temp\\RtmpMzeWlP/h2o_Manish_K_Sihag_started_from_r.err\n",
      "\n",
      "\n",
      "Starting H2O JVM and connecting: .. Connection successful!\n",
      "\n",
      "R is connected to the H2O cluster: \n",
      "    H2O cluster uptime:         4 seconds 489 milliseconds \n",
      "    H2O cluster version:        3.10.3.6 \n",
      "    H2O cluster version age:    1 month and 5 days  \n",
      "    H2O cluster name:           H2O_started_from_R_Manish_K_Sihag_chg016 \n",
      "    H2O cluster total nodes:    1 \n",
      "    H2O cluster total memory:   0.87 GB \n",
      "    H2O cluster total cores:    4 \n",
      "    H2O cluster allowed cores:  4 \n",
      "    H2O cluster healthy:        TRUE \n",
      "    H2O Connection ip:          localhost \n",
      "    H2O Connection port:        54321 \n",
      "    H2O Connection proxy:       NA \n",
      "    R Version:                  R version 3.3.1 (2016-06-21) \n",
      "\n"
     ]
    }
   ],
   "source": [
    "h2o.init(nthreads = -1)"
   ]
  },
  {
   "cell_type": "code",
   "execution_count": 33,
   "metadata": {
    "collapsed": true
   },
   "outputs": [],
   "source": [
    "trainNew = head(total,nrow(train))\n",
    "testNew = tail(total,nrow(test))"
   ]
  },
  {
   "cell_type": "code",
   "execution_count": 34,
   "metadata": {
    "collapsed": true
   },
   "outputs": [],
   "source": [
    "testNew$loan_status = NULL"
   ]
  },
  {
   "cell_type": "code",
   "execution_count": 35,
   "metadata": {
    "collapsed": false
   },
   "outputs": [
    {
     "name": "stdout",
     "output_type": "stream",
     "text": [
      "  |======================================================================| 100%\n",
      "  |======================================================================| 100%\n"
     ]
    }
   ],
   "source": [
    "## Convert the datasets into h2o supported environment\n",
    "train.h2o = as.h2o(trainNew)\n",
    "test.h2o = as.h2o(testNew)"
   ]
  },
  {
   "cell_type": "code",
   "execution_count": 36,
   "metadata": {
    "collapsed": true
   },
   "outputs": [],
   "source": [
    "train.h2o$loan_status = as.factor(train.h2o$loan_status)"
   ]
  },
  {
   "cell_type": "code",
   "execution_count": 37,
   "metadata": {
    "collapsed": true
   },
   "outputs": [],
   "source": [
    "y.dep = \"loan_status\"\n",
    "x.indep = setdiff(colnames(train.h2o), c(y.dep,\"member_id\"))"
   ]
  },
  {
   "cell_type": "code",
   "execution_count": 38,
   "metadata": {
    "collapsed": false
   },
   "outputs": [
    {
     "data": {
      "text/html": [
       "<dl class=dl-horizontal>\n",
       "\t<dt>y.dep</dt>\n",
       "\t\t<dd>104</dd>\n",
       "\t<dt>x.indep</dt>\n",
       "\t\t<dd>2056</dd>\n",
       "\t<dt>test.h2o</dt>\n",
       "\t\t<dd>25192</dd>\n",
       "\t<dt>train.h2o</dt>\n",
       "\t\t<dd>26216</dd>\n",
       "\t<dt>testNew</dt>\n",
       "\t\t<dd>68170656</dd>\n",
       "\t<dt>trainNew</dt>\n",
       "\t\t<dd>104376072</dd>\n",
       "\t<dt>test</dt>\n",
       "\t\t<dd>105309304</dd>\n",
       "\t<dt>train</dt>\n",
       "\t\t<dd>158885848</dd>\n",
       "\t<dt>total</dt>\n",
       "\t\t<dd>173946528</dd>\n",
       "</dl>\n"
      ],
      "text/latex": [
       "\\begin{description*}\n",
       "\\item[y.dep] 104\n",
       "\\item[x.indep] 2056\n",
       "\\item[test.h2o] 25192\n",
       "\\item[train.h2o] 26216\n",
       "\\item[testNew] 68170656\n",
       "\\item[trainNew] 104376072\n",
       "\\item[test] 105309304\n",
       "\\item[train] 158885848\n",
       "\\item[total] 173946528\n",
       "\\end{description*}\n"
      ],
      "text/markdown": [
       "y.dep\n",
       ":   104x.indep\n",
       ":   2056test.h2o\n",
       ":   25192train.h2o\n",
       ":   26216testNew\n",
       ":   68170656trainNew\n",
       ":   104376072test\n",
       ":   105309304train\n",
       ":   158885848total\n",
       ":   173946528\n",
       "\n"
      ],
      "text/plain": [
       "    y.dep   x.indep  test.h2o train.h2o   testNew  trainNew      test     train \n",
       "      104      2056     25192     26216  68170656 104376072 105309304 158885848 \n",
       "    total \n",
       "173946528 "
      ]
     },
     "metadata": {},
     "output_type": "display_data"
    }
   ],
   "source": [
    "## Check the size of objects and remove the unnecessary one to save memory\n",
    "sort(sapply(ls(),function(x){object.size(get(x))}))"
   ]
  },
  {
   "cell_type": "code",
   "execution_count": 39,
   "metadata": {
    "collapsed": true
   },
   "outputs": [],
   "source": [
    "rm(testNew,trainNew,total)"
   ]
  },
  {
   "cell_type": "code",
   "execution_count": 40,
   "metadata": {
    "collapsed": false
   },
   "outputs": [
    {
     "name": "stdout",
     "output_type": "stream",
     "text": [
      "\r",
      "  |                                                                            \r",
      "  |                                                                      |   0%\r",
      "  |                                                                            \r",
      "  |===                                                                   |   4%\r",
      "  |                                                                            \r",
      "  |========                                                              |  12%\r",
      "  |                                                                            \r",
      "  |===========                                                           |  16%\r",
      "  |                                                                            \r",
      "  |===============                                                       |  22%\r",
      "  |                                                                            \r",
      "  |====================                                                  |  28%\r",
      "  |                                                                            \r",
      "  |======================================================================| 100%\n"
     ]
    }
   ],
   "source": [
    "regression.model = h2o.glm( y = y.dep, x = x.indep, training_frame = train.h2o, family = \"binomial\")"
   ]
  },
  {
   "cell_type": "code",
   "execution_count": 41,
   "metadata": {
    "collapsed": false,
    "scrolled": true
   },
   "outputs": [
    {
     "data": {
      "text/plain": [
       "H2OBinomialMetrics: glm\n",
       "** Reported on training data. **\n",
       "\n",
       "MSE:  0.1227991\n",
       "RMSE:  0.350427\n",
       "LogLoss:  0.3929786\n",
       "Mean Per-Class Error:  0.2489193\n",
       "AUC:  0.8375452\n",
       "Gini:  0.6750904\n",
       "R^2:  0.3195838\n",
       "Null Deviance:  582272.6\n",
       "Residual Deviance:  418465.6\n",
       "AIC:  418757.6\n",
       "\n",
       "Confusion Matrix (vertical: actual; across: predicted) for F1-optimal threshold:\n",
       "            0      1    Error            Rate\n",
       "0      350227  56374 0.138647   =56374/406601\n",
       "1       45196  80631 0.359192   =45196/125827\n",
       "Totals 395423 137005 0.190768  =101570/532428\n",
       "\n",
       "Maximum Metrics: Maximum metrics at their respective thresholds\n",
       "                        metric threshold    value idx\n",
       "1                       max f1  0.304239 0.613555 217\n",
       "2                       max f2  0.165167 0.698717 293\n",
       "3                 max f0point5  0.458394 0.658996 150\n",
       "4                 max accuracy  0.446269 0.833559 154\n",
       "5                max precision  0.987922 0.990099   2\n",
       "6                   max recall  0.000070 1.000000 399\n",
       "7              max specificity  0.996091 0.999993   0\n",
       "8             max absolute_mcc  0.380126 0.495950 181\n",
       "9   max min_per_class_accuracy  0.227262 0.755724 257\n",
       "10 max mean_per_class_accuracy  0.252696 0.757362 243\n",
       "\n",
       "Gains/Lift Table: Extract with `h2o.gainsLift(<model>, <data>)` or `h2o.gainsLift(<model>, valid=<T/F>, xval=<T/F>)`"
      ]
     },
     "metadata": {},
     "output_type": "display_data"
    }
   ],
   "source": [
    "h2o.performance(regression.model)"
   ]
  },
  {
   "cell_type": "code",
   "execution_count": 42,
   "metadata": {
    "collapsed": false,
    "scrolled": true
   },
   "outputs": [
    {
     "name": "stdout",
     "output_type": "stream",
     "text": [
      "\r",
      "  |                                                                            \r",
      "  |                                                                      |   0%\r",
      "  |                                                                            \r",
      "  |======================================================================| 100%\n"
     ]
    }
   ],
   "source": [
    "predict.reg = as.data.frame(h2o.predict(regression.model, test.h2o, type = \"response\"))"
   ]
  },
  {
   "cell_type": "code",
   "execution_count": 43,
   "metadata": {
    "collapsed": false
   },
   "outputs": [
    {
     "data": {
      "text/plain": [
       " predict          p0                 p1         \n",
       " 0:259102   Min.   :0.000055   Min.   :0.00000  \n",
       " 1: 95849   1st Qu.:0.676214   1st Qu.:0.08509  \n",
       "            Median :0.835712   Median :0.16429  \n",
       "            Mean   :0.753822   Mean   :0.24618  \n",
       "            3rd Qu.:0.914910   3rd Qu.:0.32379  \n",
       "            Max.   :1.000000   Max.   :0.99994  "
      ]
     },
     "metadata": {},
     "output_type": "display_data"
    }
   ],
   "source": [
    "summary(predict.reg)"
   ]
  },
  {
   "cell_type": "code",
   "execution_count": 44,
   "metadata": {
    "collapsed": true
   },
   "outputs": [],
   "source": [
    "sub_reg = data.frame(member_id = test$member_id, loan_status = predict.reg$p1)"
   ]
  },
  {
   "cell_type": "code",
   "execution_count": 45,
   "metadata": {
    "collapsed": false
   },
   "outputs": [],
   "source": [
    "fwrite(sub_reg, \"sub.reg.csv\", row.names = F)"
   ]
  },
  {
   "cell_type": "code",
   "execution_count": 46,
   "metadata": {
    "collapsed": true
   },
   "outputs": [],
   "source": [
    "## Before moving on I applied deep learning model just out of curiosity and it gave a very surprising accuracy"
   ]
  },
  {
   "cell_type": "code",
   "execution_count": 47,
   "metadata": {
    "collapsed": false
   },
   "outputs": [
    {
     "name": "stdout",
     "output_type": "stream",
     "text": [
      "\r",
      "  |                                                                            \r",
      "  |                                                                      |   0%\r",
      "  |                                                                            \r",
      "  |                                                                      |   1%\r",
      "  |                                                                            \r",
      "  |=                                                                     |   1%\r",
      "  |                                                                            \r",
      "  |=                                                                     |   2%\r",
      "  |                                                                            \r",
      "  |==                                                                    |   2%\r",
      "  |                                                                            \r",
      "  |==                                                                    |   3%\r",
      "  |                                                                            \r",
      "  |===                                                                   |   4%\r",
      "  |                                                                            \r",
      "  |===                                                                   |   5%\r",
      "  |                                                                            \r",
      "  |====                                                                  |   5%\r",
      "  |                                                                            \r",
      "  |====                                                                  |   6%\r",
      "  |                                                                            \r",
      "  |=====                                                                 |   7%\r",
      "  |                                                                            \r",
      "  |=====                                                                 |   8%\r",
      "  |                                                                            \r",
      "  |======                                                                |   8%\r",
      "  |                                                                            \r",
      "  |======                                                                |   9%\r",
      "  |                                                                            \r",
      "  |=======                                                               |   9%\r",
      "  |                                                                            \r",
      "  |=======                                                               |  10%\r",
      "  |                                                                            \r",
      "  |=======                                                               |  11%\r",
      "  |                                                                            \r",
      "  |========                                                              |  11%\r",
      "  |                                                                            \r",
      "  |========                                                              |  12%\r",
      "  |                                                                            \r",
      "  |======================================================================| 100%\n"
     ]
    }
   ],
   "source": [
    "## these parameters are choosen at random\n",
    "dlearning.model = h2o.deeplearning(y = y.dep,\n",
    "             x = x.indep,\n",
    "             training_frame = train.h2o,\n",
    "             epoch = 60,\n",
    "             hidden = c(100,100),\n",
    "             activation = \"Rectifier\",\n",
    "             seed = 1122)"
   ]
  },
  {
   "cell_type": "code",
   "execution_count": 48,
   "metadata": {
    "collapsed": false,
    "scrolled": true
   },
   "outputs": [
    {
     "data": {
      "text/plain": [
       "H2OBinomialMetrics: deeplearning\n",
       "** Reported on training data. **\n",
       "** Metrics reported on temporary training frame with 9895 samples **\n",
       "\n",
       "MSE:  0.07680016\n",
       "RMSE:  0.2771284\n",
       "LogLoss:  0.2734106\n",
       "Mean Per-Class Error:  0.1536873\n",
       "AUC:  0.9208211\n",
       "Gini:  0.8416421\n",
       "\n",
       "Confusion Matrix (vertical: actual; across: predicted) for F1-optimal threshold:\n",
       "          0    1    Error       Rate\n",
       "0      7228  374 0.049198  =374/7602\n",
       "1       592 1701 0.258177  =592/2293\n",
       "Totals 7820 2075 0.097625  =966/9895\n",
       "\n",
       "Maximum Metrics: Maximum metrics at their respective thresholds\n",
       "                        metric threshold    value idx\n",
       "1                       max f1  0.382614 0.778846 191\n",
       "2                       max f2  0.207883 0.795143 251\n",
       "3                 max f0point5  0.606114 0.832690 134\n",
       "4                 max accuracy  0.488699 0.903487 163\n",
       "5                max precision  0.991030 0.987179   6\n",
       "6                   max recall  0.000044 1.000000 399\n",
       "7              max specificity  0.999782 0.999605   0\n",
       "8             max absolute_mcc  0.402444 0.719437 185\n",
       "9   max min_per_class_accuracy  0.182254 0.848234 264\n",
       "10 max mean_per_class_accuracy  0.210598 0.855407 250\n",
       "\n",
       "Gains/Lift Table: Extract with `h2o.gainsLift(<model>, <data>)` or `h2o.gainsLift(<model>, valid=<T/F>, xval=<T/F>)`"
      ]
     },
     "metadata": {},
     "output_type": "display_data"
    }
   ],
   "source": [
    "h2o.performance(dlearning.model)"
   ]
  },
  {
   "cell_type": "code",
   "execution_count": 49,
   "metadata": {
    "collapsed": false
   },
   "outputs": [
    {
     "name": "stdout",
     "output_type": "stream",
     "text": [
      "\r",
      "  |                                                                            \r",
      "  |                                                                      |   0%\r",
      "  |                                                                            \r",
      "  |===================================================                   |  73%\r",
      "  |                                                                            \r",
      "  |======================================================================| 100%\n"
     ]
    }
   ],
   "source": [
    "pred.dlearning = as.data.frame(h2o.predict(dlearning.model, test.h2o, type = \"response\"))"
   ]
  },
  {
   "cell_type": "code",
   "execution_count": 50,
   "metadata": {
    "collapsed": false
   },
   "outputs": [
    {
     "data": {
      "text/plain": [
       " predict          p0               p1         \n",
       " 0:279299   Min.   :0.0000   Min.   :0.00000  \n",
       " 1: 75652   1st Qu.:0.7262   1st Qu.:0.03631  \n",
       "            Median :0.9170   Median :0.08298  \n",
       "            Mean   :0.7593   Mean   :0.24070  \n",
       "            3rd Qu.:0.9637   3rd Qu.:0.27379  \n",
       "            Max.   :1.0000   Max.   :1.00000  "
      ]
     },
     "metadata": {},
     "output_type": "display_data"
    }
   ],
   "source": [
    "summary(pred.dlearning)"
   ]
  },
  {
   "cell_type": "code",
   "execution_count": 51,
   "metadata": {
    "collapsed": true
   },
   "outputs": [],
   "source": [
    "submission = data.frame(member_id = test$member_id, loan_status = pred.dlearning$p1)"
   ]
  },
  {
   "cell_type": "code",
   "execution_count": 53,
   "metadata": {
    "collapsed": false
   },
   "outputs": [],
   "source": [
    "fwrite(submission, \"sub.dlearning.csv\", row.names = F)"
   ]
  },
  {
   "cell_type": "code",
   "execution_count": 54,
   "metadata": {
    "collapsed": true
   },
   "outputs": [],
   "source": [
    "## This model reached a accuracy of 89%!! woah!!"
   ]
  },
  {
   "cell_type": "code",
   "execution_count": null,
   "metadata": {
    "collapsed": true
   },
   "outputs": [],
   "source": []
  }
 ],
 "metadata": {
  "kernelspec": {
   "display_name": "R",
   "language": "R",
   "name": "ir"
  },
  "language_info": {
   "codemirror_mode": "r",
   "file_extension": ".r",
   "mimetype": "text/x-r-source",
   "name": "R",
   "pygments_lexer": "r",
   "version": "3.3.1"
  }
 },
 "nbformat": 4,
 "nbformat_minor": 2
}
